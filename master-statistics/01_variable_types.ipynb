{
 "metadata": {
  "language_info": {
   "codemirror_mode": {
    "name": "ipython",
    "version": 3
   },
   "file_extension": ".py",
   "mimetype": "text/x-python",
   "name": "python",
   "nbconvert_exporter": "python",
   "pygments_lexer": "ipython3",
   "version": "3.9.2"
  },
  "orig_nbformat": 2,
  "kernelspec": {
   "name": "python392jvsc74a57bd03e51c8fce8865fe7ce19d319b84dc281172c29fab73b40f06b05bf6ddc25df62",
   "display_name": "Python 3.9.2 64-bit"
  },
  "metadata": {
   "interpreter": {
    "hash": "3e51c8fce8865fe7ce19d319b84dc281172c29fab73b40f06b05bf6ddc25df62"
   }
  }
 },
 "nbformat": 4,
 "nbformat_minor": 2,
 "cells": [
  {
   "source": [
    "## Section 1: Variable Types"
   ],
   "cell_type": "markdown",
   "metadata": {}
  },
  {
   "source": [
    "Let's investigate the data in cars.csv"
   ],
   "cell_type": "markdown",
   "metadata": {}
  },
  {
   "cell_type": "code",
   "execution_count": 2,
   "metadata": {},
   "outputs": [
    {
     "output_type": "execute_result",
     "data": {
      "text/plain": [
       "          Car       Model  Volume   Weight         CO2     Rating  \\\n",
       "0      Toyoty        Aygo  1000.0  missing   99.276864       Good   \n",
       "1  Mitsubishi  Space Star  1200.0  missing   95.565525  Excellent   \n",
       "2       Skoda      Citigo  1000.0      929   95.308105       Good   \n",
       "3        Fiat         500   900.0      865   90.111976        Bad   \n",
       "4        Mini      Cooper  1500.0     1140  105.032618       Good   \n",
       "\n",
       "  Average Education  \n",
       "0         bachelors  \n",
       "1         bachelors  \n",
       "2           masters  \n",
       "3         bachelors  \n",
       "4       high school  "
      ],
      "text/html": "<div>\n<style scoped>\n    .dataframe tbody tr th:only-of-type {\n        vertical-align: middle;\n    }\n\n    .dataframe tbody tr th {\n        vertical-align: top;\n    }\n\n    .dataframe thead th {\n        text-align: right;\n    }\n</style>\n<table border=\"1\" class=\"dataframe\">\n  <thead>\n    <tr style=\"text-align: right;\">\n      <th></th>\n      <th>Car</th>\n      <th>Model</th>\n      <th>Volume</th>\n      <th>Weight</th>\n      <th>CO2</th>\n      <th>Rating</th>\n      <th>Average Education</th>\n    </tr>\n  </thead>\n  <tbody>\n    <tr>\n      <th>0</th>\n      <td>Toyoty</td>\n      <td>Aygo</td>\n      <td>1000.0</td>\n      <td>missing</td>\n      <td>99.276864</td>\n      <td>Good</td>\n      <td>bachelors</td>\n    </tr>\n    <tr>\n      <th>1</th>\n      <td>Mitsubishi</td>\n      <td>Space Star</td>\n      <td>1200.0</td>\n      <td>missing</td>\n      <td>95.565525</td>\n      <td>Excellent</td>\n      <td>bachelors</td>\n    </tr>\n    <tr>\n      <th>2</th>\n      <td>Skoda</td>\n      <td>Citigo</td>\n      <td>1000.0</td>\n      <td>929</td>\n      <td>95.308105</td>\n      <td>Good</td>\n      <td>masters</td>\n    </tr>\n    <tr>\n      <th>3</th>\n      <td>Fiat</td>\n      <td>500</td>\n      <td>900.0</td>\n      <td>865</td>\n      <td>90.111976</td>\n      <td>Bad</td>\n      <td>bachelors</td>\n    </tr>\n    <tr>\n      <th>4</th>\n      <td>Mini</td>\n      <td>Cooper</td>\n      <td>1500.0</td>\n      <td>1140</td>\n      <td>105.032618</td>\n      <td>Good</td>\n      <td>high school</td>\n    </tr>\n  </tbody>\n</table>\n</div>"
     },
     "metadata": {},
     "execution_count": 2
    }
   ],
   "source": [
    "import numpy as np\n",
    "import pandas as pd\n",
    "\n",
    "cars = pd.read_csv('cars.csv')\n",
    "cars.head()"
   ]
  },
  {
   "cell_type": "code",
   "execution_count": 3,
   "metadata": {},
   "outputs": [
    {
     "output_type": "execute_result",
     "data": {
      "text/plain": [
       "         Car   Model  Volume Weight         CO2     Rating Average Education\n",
       "31     Volvo    XC70  2000.0   1746  117.554680        Bad       high school\n",
       "32      Ford   B-Max  1600.0   1235  104.691499  Excellent       high school\n",
       "33       BMW     216  1600.0   1390  108.420738        Bad           masters\n",
       "34      Opel  Zafira  1600.0   1405  109.021072  Excellent    post doctorate\n",
       "35  Mercedes     SLK  2500.0   1395  120.802845        Bad         bachelors"
      ],
      "text/html": "<div>\n<style scoped>\n    .dataframe tbody tr th:only-of-type {\n        vertical-align: middle;\n    }\n\n    .dataframe tbody tr th {\n        vertical-align: top;\n    }\n\n    .dataframe thead th {\n        text-align: right;\n    }\n</style>\n<table border=\"1\" class=\"dataframe\">\n  <thead>\n    <tr style=\"text-align: right;\">\n      <th></th>\n      <th>Car</th>\n      <th>Model</th>\n      <th>Volume</th>\n      <th>Weight</th>\n      <th>CO2</th>\n      <th>Rating</th>\n      <th>Average Education</th>\n    </tr>\n  </thead>\n  <tbody>\n    <tr>\n      <th>31</th>\n      <td>Volvo</td>\n      <td>XC70</td>\n      <td>2000.0</td>\n      <td>1746</td>\n      <td>117.554680</td>\n      <td>Bad</td>\n      <td>high school</td>\n    </tr>\n    <tr>\n      <th>32</th>\n      <td>Ford</td>\n      <td>B-Max</td>\n      <td>1600.0</td>\n      <td>1235</td>\n      <td>104.691499</td>\n      <td>Excellent</td>\n      <td>high school</td>\n    </tr>\n    <tr>\n      <th>33</th>\n      <td>BMW</td>\n      <td>216</td>\n      <td>1600.0</td>\n      <td>1390</td>\n      <td>108.420738</td>\n      <td>Bad</td>\n      <td>masters</td>\n    </tr>\n    <tr>\n      <th>34</th>\n      <td>Opel</td>\n      <td>Zafira</td>\n      <td>1600.0</td>\n      <td>1405</td>\n      <td>109.021072</td>\n      <td>Excellent</td>\n      <td>post doctorate</td>\n    </tr>\n    <tr>\n      <th>35</th>\n      <td>Mercedes</td>\n      <td>SLK</td>\n      <td>2500.0</td>\n      <td>1395</td>\n      <td>120.802845</td>\n      <td>Bad</td>\n      <td>bachelors</td>\n    </tr>\n  </tbody>\n</table>\n</div>"
     },
     "metadata": {},
     "execution_count": 3
    }
   ],
   "source": [
    "cars.tail()"
   ]
  },
  {
   "cell_type": "code",
   "execution_count": 4,
   "metadata": {},
   "outputs": [
    {
     "output_type": "execute_result",
     "data": {
      "text/plain": [
       "        Car    Model  Volume Weight        CO2 Rating Average Education\n",
       "6     Skoda    Fabia  1400.0   1109  90.611629   Good    post doctorate\n",
       "7  Mercedes  A-Class  1500.0   1365  92.854248   Good       high school\n",
       "8      Ford   Fiesta  1500.0   1112  98.136370   Good       high school\n",
       "9      Audi       A1     NaN   1150  99.621678    Bad       high school"
      ],
      "text/html": "<div>\n<style scoped>\n    .dataframe tbody tr th:only-of-type {\n        vertical-align: middle;\n    }\n\n    .dataframe tbody tr th {\n        vertical-align: top;\n    }\n\n    .dataframe thead th {\n        text-align: right;\n    }\n</style>\n<table border=\"1\" class=\"dataframe\">\n  <thead>\n    <tr style=\"text-align: right;\">\n      <th></th>\n      <th>Car</th>\n      <th>Model</th>\n      <th>Volume</th>\n      <th>Weight</th>\n      <th>CO2</th>\n      <th>Rating</th>\n      <th>Average Education</th>\n    </tr>\n  </thead>\n  <tbody>\n    <tr>\n      <th>6</th>\n      <td>Skoda</td>\n      <td>Fabia</td>\n      <td>1400.0</td>\n      <td>1109</td>\n      <td>90.611629</td>\n      <td>Good</td>\n      <td>post doctorate</td>\n    </tr>\n    <tr>\n      <th>7</th>\n      <td>Mercedes</td>\n      <td>A-Class</td>\n      <td>1500.0</td>\n      <td>1365</td>\n      <td>92.854248</td>\n      <td>Good</td>\n      <td>high school</td>\n    </tr>\n    <tr>\n      <th>8</th>\n      <td>Ford</td>\n      <td>Fiesta</td>\n      <td>1500.0</td>\n      <td>1112</td>\n      <td>98.136370</td>\n      <td>Good</td>\n      <td>high school</td>\n    </tr>\n    <tr>\n      <th>9</th>\n      <td>Audi</td>\n      <td>A1</td>\n      <td>NaN</td>\n      <td>1150</td>\n      <td>99.621678</td>\n      <td>Bad</td>\n      <td>high school</td>\n    </tr>\n  </tbody>\n</table>\n</div>"
     },
     "metadata": {},
     "execution_count": 4
    }
   ],
   "source": [
    "cars.iloc[6:10]"
   ]
  },
  {
   "cell_type": "code",
   "execution_count": 5,
   "metadata": {},
   "outputs": [
    {
     "output_type": "execute_result",
     "data": {
      "text/plain": [
       "36"
      ]
     },
     "metadata": {},
     "execution_count": 5
    }
   ],
   "source": [
    "len(cars)"
   ]
  },
  {
   "cell_type": "code",
   "execution_count": 6,
   "metadata": {},
   "outputs": [
    {
     "output_type": "execute_result",
     "data": {
      "text/plain": [
       "Car                   object\n",
       "Model                 object\n",
       "Volume               float64\n",
       "Weight                object\n",
       "CO2                  float64\n",
       "Rating                object\n",
       "Average Education     object\n",
       "dtype: object"
      ]
     },
     "metadata": {},
     "execution_count": 6
    }
   ],
   "source": [
    "cars.dtypes"
   ]
  },
  {
   "cell_type": "code",
   "execution_count": 7,
   "metadata": {},
   "outputs": [
    {
     "output_type": "stream",
     "name": "stdout",
     "text": [
      "<class 'pandas.core.frame.DataFrame'>\nRangeIndex: 36 entries, 0 to 35\nData columns (total 7 columns):\n #   Column             Non-Null Count  Dtype  \n---  ------             --------------  -----  \n 0   Car                36 non-null     object \n 1   Model              36 non-null     object \n 2   Volume             34 non-null     float64\n 3   Weight             36 non-null     object \n 4   CO2                36 non-null     float64\n 5   Rating             36 non-null     object \n 6   Average Education  36 non-null     object \ndtypes: float64(2), object(5)\nmemory usage: 2.1+ KB\n"
     ]
    }
   ],
   "source": [
    "cars.info()"
   ]
  },
  {
   "source": [
    "Weight is incorrectly set as string type instead of float64. This prevents us from analyzing the data numerically. Let's find out why."
   ],
   "cell_type": "markdown",
   "metadata": {}
  },
  {
   "cell_type": "code",
   "execution_count": 8,
   "metadata": {},
   "outputs": [
    {
     "output_type": "execute_result",
     "data": {
      "text/plain": [
       "array(['missing', '929', '865', '1140', '1109', '1365', '1112', '1150',\n",
       "       '980', '990', '1252', '1326', '1330', '1280', '1119', '1328',\n",
       "       '1584', '1428', '1415', '1465', '1490', '1725', '1523', '1705',\n",
       "       '1605', '1746', '1235', '1390', '1405', '1395'], dtype=object)"
      ]
     },
     "metadata": {},
     "execution_count": 8
    }
   ],
   "source": [
    "cars['Weight'].unique()"
   ]
  },
  {
   "source": [
    "Replace `missing` with `numpy.nan` so that it can be ignored."
   ],
   "cell_type": "markdown",
   "metadata": {}
  },
  {
   "cell_type": "code",
   "execution_count": 9,
   "metadata": {},
   "outputs": [
    {
     "output_type": "execute_result",
     "data": {
      "text/plain": [
       "array([nan, '929', '865', '1140', '1109', '1365', '1112', '1150', '980',\n",
       "       '990', '1252', '1326', '1330', '1280', '1119', '1328', '1584',\n",
       "       '1428', '1415', '1465', '1490', '1725', '1523', '1705', '1605',\n",
       "       '1746', '1235', '1390', '1405', '1395'], dtype=object)"
      ]
     },
     "metadata": {},
     "execution_count": 9
    }
   ],
   "source": [
    "cars['Weight'] = cars['Weight'].replace(['missing'], np.nan)\n",
    "cars['Weight'].unique()"
   ]
  },
  {
   "source": [
    "Convert `Weight` to `float`."
   ],
   "cell_type": "markdown",
   "metadata": {}
  },
  {
   "cell_type": "code",
   "execution_count": 10,
   "metadata": {},
   "outputs": [
    {
     "output_type": "stream",
     "name": "stdout",
     "text": [
      "<class 'pandas.core.frame.DataFrame'>\nRangeIndex: 36 entries, 0 to 35\nData columns (total 7 columns):\n #   Column             Non-Null Count  Dtype  \n---  ------             --------------  -----  \n 0   Car                36 non-null     object \n 1   Model              36 non-null     object \n 2   Volume             34 non-null     float64\n 3   Weight             34 non-null     float64\n 4   CO2                36 non-null     float64\n 5   Rating             36 non-null     object \n 6   Average Education  36 non-null     object \ndtypes: float64(3), object(4)\nmemory usage: 2.1+ KB\n"
     ]
    }
   ],
   "source": [
    "cars['Weight'] = cars['Weight'].astype('float')\n",
    "cars.info()"
   ]
  },
  {
   "source": [
    "That's better. Let's calculate the `mean` of `Weight`."
   ],
   "cell_type": "markdown",
   "metadata": {}
  },
  {
   "cell_type": "code",
   "execution_count": 11,
   "metadata": {},
   "outputs": [
    {
     "output_type": "execute_result",
     "data": {
      "text/plain": [
       "1310.9411764705883"
      ]
     },
     "metadata": {},
     "execution_count": 11
    }
   ],
   "source": [
    "cars['Weight'].mean()"
   ]
  },
  {
   "source": [
    "## Categorical -> Ordinal\n",
    "\n",
    "Ordinal categorical variables which are groups that contain an inherent ranking, such as ratings of plays or responses to a survey question with a point scale e.g., on a scale from 1-7, how happy are you right now?"
   ],
   "cell_type": "markdown",
   "metadata": {}
  },
  {
   "source": [
    "Convert `Rating` to an ordinal category"
   ],
   "cell_type": "markdown",
   "metadata": {}
  },
  {
   "cell_type": "code",
   "execution_count": 12,
   "metadata": {},
   "outputs": [
    {
     "output_type": "execute_result",
     "data": {
      "text/plain": [
       "array(['Good', 'Excellent', 'Bad'], dtype=object)"
      ]
     },
     "metadata": {},
     "execution_count": 12
    }
   ],
   "source": [
    "cars['Rating'].unique()"
   ]
  },
  {
   "cell_type": "code",
   "execution_count": 13,
   "metadata": {},
   "outputs": [
    {
     "output_type": "execute_result",
     "data": {
      "text/plain": [
       "Car                    object\n",
       "Model                  object\n",
       "Volume                float64\n",
       "Weight                float64\n",
       "CO2                   float64\n",
       "Rating               category\n",
       "Average Education      object\n",
       "dtype: object"
      ]
     },
     "metadata": {},
     "execution_count": 13
    }
   ],
   "source": [
    "cars['Rating'] = pd.Categorical(\n",
    "    cars['Rating'], ['Bad', 'Good', 'Excellent'], ordered=True)\n",
    "cars.dtypes"
   ]
  },
  {
   "cell_type": "code",
   "execution_count": 14,
   "metadata": {},
   "outputs": [
    {
     "output_type": "execute_result",
     "data": {
      "text/plain": [
       "['Good', 'Excellent', 'Bad']\n",
       "Categories (3, object): ['Bad' < 'Good' < 'Excellent']"
      ]
     },
     "metadata": {},
     "execution_count": 14
    }
   ],
   "source": [
    "cars['Rating'].unique()"
   ]
  },
  {
   "source": [
    "### Categorical encoding using label encoding\n",
    "\n",
    "Variables stored as type category have an attribute (`cat.codes`) that converts the categories to numbers and also `values` that gives the string representation."
   ],
   "cell_type": "code",
   "metadata": {},
   "execution_count": 15,
   "outputs": [
    {
     "output_type": "error",
     "ename": "SyntaxError",
     "evalue": "invalid syntax (<ipython-input-15-05c54775032d>, line 3)",
     "traceback": [
      "\u001b[1;36m  File \u001b[1;32m\"<ipython-input-15-05c54775032d>\"\u001b[1;36m, line \u001b[1;32m3\u001b[0m\n\u001b[1;33m    Variables stored as type category have an attribute (`cat.codes`) that converts the categories to numbers and also `values` that gives the string representation.\u001b[0m\n\u001b[1;37m              ^\u001b[0m\n\u001b[1;31mSyntaxError\u001b[0m\u001b[1;31m:\u001b[0m invalid syntax\n"
     ]
    }
   ]
  },
  {
   "cell_type": "code",
   "execution_count": 18,
   "metadata": {},
   "outputs": [
    {
     "output_type": "execute_result",
     "data": {
      "text/plain": [
       "          Car       Model  Volume  Weight         CO2     Rating  \\\n",
       "0      Toyoty        Aygo  1000.0     NaN   99.276864       Good   \n",
       "1  Mitsubishi  Space Star  1200.0     NaN   95.565525  Excellent   \n",
       "2       Skoda      Citigo  1000.0   929.0   95.308105       Good   \n",
       "3        Fiat         500   900.0   865.0   90.111976        Bad   \n",
       "4        Mini      Cooper  1500.0  1140.0  105.032618       Good   \n",
       "\n",
       "  Average Education  Rating_codes Rating_values  \n",
       "0         bachelors             1          Good  \n",
       "1         bachelors             2     Excellent  \n",
       "2           masters             1          Good  \n",
       "3         bachelors             0           Bad  \n",
       "4       high school             1          Good  "
      ],
      "text/html": "<div>\n<style scoped>\n    .dataframe tbody tr th:only-of-type {\n        vertical-align: middle;\n    }\n\n    .dataframe tbody tr th {\n        vertical-align: top;\n    }\n\n    .dataframe thead th {\n        text-align: right;\n    }\n</style>\n<table border=\"1\" class=\"dataframe\">\n  <thead>\n    <tr style=\"text-align: right;\">\n      <th></th>\n      <th>Car</th>\n      <th>Model</th>\n      <th>Volume</th>\n      <th>Weight</th>\n      <th>CO2</th>\n      <th>Rating</th>\n      <th>Average Education</th>\n      <th>Rating_codes</th>\n      <th>Rating_values</th>\n    </tr>\n  </thead>\n  <tbody>\n    <tr>\n      <th>0</th>\n      <td>Toyoty</td>\n      <td>Aygo</td>\n      <td>1000.0</td>\n      <td>NaN</td>\n      <td>99.276864</td>\n      <td>Good</td>\n      <td>bachelors</td>\n      <td>1</td>\n      <td>Good</td>\n    </tr>\n    <tr>\n      <th>1</th>\n      <td>Mitsubishi</td>\n      <td>Space Star</td>\n      <td>1200.0</td>\n      <td>NaN</td>\n      <td>95.565525</td>\n      <td>Excellent</td>\n      <td>bachelors</td>\n      <td>2</td>\n      <td>Excellent</td>\n    </tr>\n    <tr>\n      <th>2</th>\n      <td>Skoda</td>\n      <td>Citigo</td>\n      <td>1000.0</td>\n      <td>929.0</td>\n      <td>95.308105</td>\n      <td>Good</td>\n      <td>masters</td>\n      <td>1</td>\n      <td>Good</td>\n    </tr>\n    <tr>\n      <th>3</th>\n      <td>Fiat</td>\n      <td>500</td>\n      <td>900.0</td>\n      <td>865.0</td>\n      <td>90.111976</td>\n      <td>Bad</td>\n      <td>bachelors</td>\n      <td>0</td>\n      <td>Bad</td>\n    </tr>\n    <tr>\n      <th>4</th>\n      <td>Mini</td>\n      <td>Cooper</td>\n      <td>1500.0</td>\n      <td>1140.0</td>\n      <td>105.032618</td>\n      <td>Good</td>\n      <td>high school</td>\n      <td>1</td>\n      <td>Good</td>\n    </tr>\n  </tbody>\n</table>\n</div>"
     },
     "metadata": {},
     "execution_count": 18
    }
   ],
   "source": [
    "cars['Rating_codes'] = cars['Rating'].cat.codes\n",
    "cars['Rating_values'] = cars['Rating'].values\n",
    "cars.head()"
   ]
  },
  {
   "cell_type": "code",
   "execution_count": 24,
   "metadata": {},
   "outputs": [
    {
     "output_type": "execute_result",
     "data": {
      "text/plain": [
       "Good         15\n",
       "Bad          12\n",
       "Excellent     9\n",
       "Name: Rating, dtype: int64"
      ]
     },
     "metadata": {},
     "execution_count": 24
    }
   ],
   "source": [
    "# Can also use value_counts() on a categorical column to get a table of frequencies\n",
    "cars['Rating'].value_counts()"
   ]
  },
  {
   "source": [
    "## Categorical -> Nominal\n",
    "\n",
    "Nominal categorical variables are made of categories without an inherent order, examples of nominal variables are species of ants, or people’s hair color."
   ],
   "cell_type": "markdown",
   "metadata": {}
  },
  {
   "source": [
    "### Categorical encoding using one-hot encoding"
   ],
   "cell_type": "markdown",
   "metadata": {}
  },
  {
   "cell_type": "code",
   "execution_count": 19,
   "metadata": {},
   "outputs": [
    {
     "output_type": "execute_result",
     "data": {
      "text/plain": [
       "array(['bachelors', 'masters', 'high school', 'post doctorate'],\n",
       "      dtype=object)"
      ]
     },
     "metadata": {},
     "execution_count": 19
    }
   ],
   "source": [
    "cars['Average Education'].unique()"
   ]
  },
  {
   "cell_type": "code",
   "execution_count": 20,
   "metadata": {},
   "outputs": [
    {
     "output_type": "execute_result",
     "data": {
      "text/plain": [
       "          Car       Model  Volume  Weight         CO2     Rating  \\\n",
       "0      Toyoty        Aygo  1000.0     NaN   99.276864       Good   \n",
       "1  Mitsubishi  Space Star  1200.0     NaN   95.565525  Excellent   \n",
       "2       Skoda      Citigo  1000.0   929.0   95.308105       Good   \n",
       "3        Fiat         500   900.0   865.0   90.111976        Bad   \n",
       "4        Mini      Cooper  1500.0  1140.0  105.032618       Good   \n",
       "\n",
       "   Rating_codes Rating_values  Average Education_bachelors  \\\n",
       "0             1          Good                            1   \n",
       "1             2     Excellent                            1   \n",
       "2             1          Good                            0   \n",
       "3             0           Bad                            1   \n",
       "4             1          Good                            0   \n",
       "\n",
       "   Average Education_high school  Average Education_masters  \\\n",
       "0                              0                          0   \n",
       "1                              0                          0   \n",
       "2                              0                          1   \n",
       "3                              0                          0   \n",
       "4                              1                          0   \n",
       "\n",
       "   Average Education_post doctorate  \n",
       "0                                 0  \n",
       "1                                 0  \n",
       "2                                 0  \n",
       "3                                 0  \n",
       "4                                 0  "
      ],
      "text/html": "<div>\n<style scoped>\n    .dataframe tbody tr th:only-of-type {\n        vertical-align: middle;\n    }\n\n    .dataframe tbody tr th {\n        vertical-align: top;\n    }\n\n    .dataframe thead th {\n        text-align: right;\n    }\n</style>\n<table border=\"1\" class=\"dataframe\">\n  <thead>\n    <tr style=\"text-align: right;\">\n      <th></th>\n      <th>Car</th>\n      <th>Model</th>\n      <th>Volume</th>\n      <th>Weight</th>\n      <th>CO2</th>\n      <th>Rating</th>\n      <th>Rating_codes</th>\n      <th>Rating_values</th>\n      <th>Average Education_bachelors</th>\n      <th>Average Education_high school</th>\n      <th>Average Education_masters</th>\n      <th>Average Education_post doctorate</th>\n    </tr>\n  </thead>\n  <tbody>\n    <tr>\n      <th>0</th>\n      <td>Toyoty</td>\n      <td>Aygo</td>\n      <td>1000.0</td>\n      <td>NaN</td>\n      <td>99.276864</td>\n      <td>Good</td>\n      <td>1</td>\n      <td>Good</td>\n      <td>1</td>\n      <td>0</td>\n      <td>0</td>\n      <td>0</td>\n    </tr>\n    <tr>\n      <th>1</th>\n      <td>Mitsubishi</td>\n      <td>Space Star</td>\n      <td>1200.0</td>\n      <td>NaN</td>\n      <td>95.565525</td>\n      <td>Excellent</td>\n      <td>2</td>\n      <td>Excellent</td>\n      <td>1</td>\n      <td>0</td>\n      <td>0</td>\n      <td>0</td>\n    </tr>\n    <tr>\n      <th>2</th>\n      <td>Skoda</td>\n      <td>Citigo</td>\n      <td>1000.0</td>\n      <td>929.0</td>\n      <td>95.308105</td>\n      <td>Good</td>\n      <td>1</td>\n      <td>Good</td>\n      <td>0</td>\n      <td>0</td>\n      <td>1</td>\n      <td>0</td>\n    </tr>\n    <tr>\n      <th>3</th>\n      <td>Fiat</td>\n      <td>500</td>\n      <td>900.0</td>\n      <td>865.0</td>\n      <td>90.111976</td>\n      <td>Bad</td>\n      <td>0</td>\n      <td>Bad</td>\n      <td>1</td>\n      <td>0</td>\n      <td>0</td>\n      <td>0</td>\n    </tr>\n    <tr>\n      <th>4</th>\n      <td>Mini</td>\n      <td>Cooper</td>\n      <td>1500.0</td>\n      <td>1140.0</td>\n      <td>105.032618</td>\n      <td>Good</td>\n      <td>1</td>\n      <td>Good</td>\n      <td>0</td>\n      <td>1</td>\n      <td>0</td>\n      <td>0</td>\n    </tr>\n  </tbody>\n</table>\n</div>"
     },
     "metadata": {},
     "execution_count": 20
    }
   ],
   "source": [
    "cars = pd.get_dummies(data=cars, columns=['Average Education'])\n",
    "cars.head()"
   ]
  },
  {
   "source": [
    "## Final data types"
   ],
   "cell_type": "markdown",
   "metadata": {}
  },
  {
   "cell_type": "code",
   "execution_count": 21,
   "metadata": {},
   "outputs": [
    {
     "output_type": "execute_result",
     "data": {
      "text/plain": [
       "Car                                   object\n",
       "Model                                 object\n",
       "Volume                               float64\n",
       "Weight                               float64\n",
       "CO2                                  float64\n",
       "Rating                              category\n",
       "Rating_codes                            int8\n",
       "Rating_values                       category\n",
       "Average Education_bachelors            uint8\n",
       "Average Education_high school          uint8\n",
       "Average Education_masters              uint8\n",
       "Average Education_post doctorate       uint8\n",
       "dtype: object"
      ]
     },
     "metadata": {},
     "execution_count": 21
    }
   ],
   "source": [
    "cars.dtypes"
   ]
  },
  {
   "source": [
    "## Crosstab\n",
    "\n",
    "Crosstabs are useful for summarizing frequencies of values in a dataframe"
   ],
   "cell_type": "markdown",
   "metadata": {}
  },
  {
   "cell_type": "code",
   "execution_count": 20,
   "metadata": {},
   "outputs": [
    {
     "output_type": "execute_result",
     "data": {
      "text/plain": [
       "Head               no  yes\n",
       "Group                     \n",
       "did_not_flip_head   6    4\n",
       "flipped_head        5    5"
      ],
      "text/html": "<div>\n<style scoped>\n    .dataframe tbody tr th:only-of-type {\n        vertical-align: middle;\n    }\n\n    .dataframe tbody tr th {\n        vertical-align: top;\n    }\n\n    .dataframe thead th {\n        text-align: right;\n    }\n</style>\n<table border=\"1\" class=\"dataframe\">\n  <thead>\n    <tr style=\"text-align: right;\">\n      <th>Head</th>\n      <th>no</th>\n      <th>yes</th>\n    </tr>\n    <tr>\n      <th>Group</th>\n      <th></th>\n      <th></th>\n    </tr>\n  </thead>\n  <tbody>\n    <tr>\n      <th>did_not_flip_head</th>\n      <td>6</td>\n      <td>4</td>\n    </tr>\n    <tr>\n      <th>flipped_head</th>\n      <td>5</td>\n      <td>5</td>\n    </tr>\n  </tbody>\n</table>\n</div>"
     },
     "metadata": {},
     "execution_count": 20
    }
   ],
   "source": [
    "# Example\n",
    "\n",
    "yesses_and_nos = np.random.choice(['yes', 'no'], size = 20)\n",
    "labels = ['flipped_head']*10 + ['did_not_flip_head']*10\n",
    "data = pd.DataFrame({'Group': labels, 'Head': yesses_and_nos})\n",
    "pd.crosstab(data.Group, data.Head)"
   ]
  }
 ]
}