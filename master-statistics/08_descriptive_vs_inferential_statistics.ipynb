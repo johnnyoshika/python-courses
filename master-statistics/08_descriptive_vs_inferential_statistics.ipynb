{
 "metadata": {
  "language_info": {
   "codemirror_mode": {
    "name": "ipython",
    "version": 3
   },
   "file_extension": ".py",
   "mimetype": "text/x-python",
   "name": "python",
   "nbconvert_exporter": "python",
   "pygments_lexer": "ipython3",
   "version": 3
  },
  "orig_nbformat": 2
 },
 "nbformat": 4,
 "nbformat_minor": 2,
 "cells": [
  {
   "source": [
    "## Descriprive Statistics\n",
    "\n",
    "Descriptive statistics is all about summarizing data. Commonly used descriptive statistics include the average, median, frequency, standard deviation, and range of a set of values."
   ],
   "cell_type": "markdown",
   "metadata": {}
  },
  {
   "source": [
    "## Inferential Statistics\n",
    "\n",
    "Inferential statistics is all about using a sample (a subset of a population) to make inferences about a larger population of interest. Some methods that are used in inferential statistics include hypothesis testing and regression."
   ],
   "cell_type": "markdown",
   "metadata": {}
  }
 ]
}