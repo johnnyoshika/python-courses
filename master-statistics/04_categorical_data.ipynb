{
 "metadata": {
  "language_info": {
   "codemirror_mode": {
    "name": "ipython",
    "version": 3
   },
   "file_extension": ".py",
   "mimetype": "text/x-python",
   "name": "python",
   "nbconvert_exporter": "python",
   "pygments_lexer": "ipython3",
   "version": "3.9.2"
  },
  "orig_nbformat": 2,
  "kernelspec": {
   "name": "python392jvsc74a57bd03e51c8fce8865fe7ce19d319b84dc281172c29fab73b40f06b05bf6ddc25df62",
   "display_name": "Python 3.9.2 64-bit"
  },
  "metadata": {
   "interpreter": {
    "hash": "3e51c8fce8865fe7ce19d319b84dc281172c29fab73b40f06b05bf6ddc25df62"
   }
  }
 },
 "nbformat": 4,
 "nbformat_minor": 2,
 "cells": [
  {
   "source": [
    "# Summary Statistics for Categorical Data"
   ],
   "cell_type": "markdown",
   "metadata": {}
  },
  {
   "cell_type": "code",
   "execution_count": 96,
   "metadata": {},
   "outputs": [],
   "source": [
    "import numpy as np\n",
    "import pandas as pd\n",
    "from matplotlib import pyplot as plt"
   ]
  },
  {
   "cell_type": "code",
   "execution_count": 97,
   "metadata": {},
   "outputs": [
    {
     "output_type": "stream",
     "name": "stdout",
     "text": [
      "   tree_id  stump_diam status health spc_common                     nta_name\n",
      "0   211205          16  Stump    NaN        NaN                     Steinway\n",
      "1   203597          15  Stump    NaN        NaN                     Steinway\n",
      "2   179766          30  Stump    NaN        NaN                     Flatbush\n",
      "3   180619          10  Stump    NaN        NaN                 Forest Hills\n",
      "4   208828          15  Stump    NaN        NaN  Lenox Hill-Roosevelt Island\n",
      "tree_id        int64\n",
      "stump_diam     int64\n",
      "status        object\n",
      "health        object\n",
      "spc_common    object\n",
      "nta_name      object\n",
      "dtype: object\n",
      "C:\\Users\\Johnny\\AppData\\Roaming\\Python\\Python39\\site-packages\\IPython\\core\\interactiveshell.py:3165: DtypeWarning: Columns (7,8,9,10,11,12,14) have mixed types.Specify dtype option on import or set low_memory=False.\n",
      "  has_raised = await self.run_ast_nodes(code_ast.body, cell_name,\n"
     ]
    }
   ],
   "source": [
    "# Downloaded data from https://data.cityofnewyork.us/Environment/2015-Street-Tree-Census-Tree-Data/uvpi-gqnh and deleted all but the first 1000 rows.\n",
    "nyc_trees_all_columns = pd.read_csv('2015_Street_Tree_Census_-_Tree_Data_-_Filtered_By_Stump_Diam.csv')\n",
    "nyc_trees = nyc_trees_all_columns[['tree_id', 'stump_diam', 'status', 'health', 'spc_common', 'nta_name']]\n",
    "print(nyc_trees.head())\n",
    "print(nyc_trees.dtypes)\n"
   ]
  },
  {
   "cell_type": "code",
   "execution_count": 98,
   "metadata": {},
   "outputs": [
    {
     "output_type": "stream",
     "name": "stdout",
     "text": [
      "['Stump' 'Alive' 'Dead']\n[nan 'Fair' 'Good' 'Poor']\nBreezy Point-Belle Harbor-Rockaway Park-Broad Channel    409\nForest Hills                                             322\nQueens Village                                           319\nRossville-Woodrow                                        314\nSt. Albans                                               306\n                                                        ... \nWest Brighton                                             18\nManhattanville                                            11\nParkchester                                               10\nStuyvesant Town-Cooper Village                             9\nStarrett City                                              6\nName: nta_name, Length: 188, dtype: int64\n"
     ]
    }
   ],
   "source": [
    "print(nyc_trees['status'].unique())\n",
    "print(nyc_trees['health'].unique())\n",
    "print(nyc_trees['nta_name'].value_counts())"
   ]
  },
  {
   "source": [
    "## Modal category\n",
    "\n",
    "For nominal category, `spc_common`.\n",
    "\n",
    "The most common (i.e. mode) specie (i.e. spc_common) and its frequency is:"
   ],
   "cell_type": "markdown",
   "metadata": {}
  },
  {
   "cell_type": "code",
   "execution_count": 99,
   "metadata": {},
   "outputs": [
    {
     "output_type": "stream",
     "name": "stdout",
     "text": [
      "honeylocust\n201\n"
     ]
    },
    {
     "output_type": "execute_result",
     "data": {
      "text/plain": [
       "honeylocust    201\n",
       "Name: spc_common, dtype: int64"
      ]
     },
     "metadata": {},
     "execution_count": 99
    }
   ],
   "source": [
    "print(nyc_trees['spc_common'].value_counts().index[0])\n",
    "print(nyc_trees['spc_common'].value_counts()[0])\n",
    "nyc_trees['spc_common'].value_counts().head(1)"
   ]
  },
  {
   "source": [
    "## Ordinal Categorial Median"
   ],
   "cell_type": "markdown",
   "metadata": {}
  },
  {
   "cell_type": "code",
   "execution_count": 100,
   "metadata": {},
   "outputs": [
    {
     "output_type": "execute_result",
     "data": {
      "text/plain": [
       "array(['Fair', 'Good', 'Poor'], dtype=object)"
      ]
     },
     "metadata": {},
     "execution_count": 100
    }
   ],
   "source": [
    "nyc_trees['health'].dropna().unique()"
   ]
  },
  {
   "cell_type": "code",
   "execution_count": 101,
   "metadata": {},
   "outputs": [
    {
     "output_type": "stream",
     "name": "stdout",
     "text": [
      "['Fair', 'Fair', 'Good', 'Good', 'Good', ..., 'Good', 'Fair', 'Poor', 'Good', 'Good']\nLength: 971\nCategories (3, object): ['Poor' < 'Fair' < 'Good']\n"
     ]
    }
   ],
   "source": [
    "ordered_health = pd.Categorical(nyc_trees['health'].dropna(), ['Poor', 'Fair', 'Good'], ordered=True)\n",
    "print(ordered_health)"
   ]
  },
  {
   "cell_type": "code",
   "execution_count": 102,
   "metadata": {},
   "outputs": [
    {
     "output_type": "stream",
     "name": "stdout",
     "text": [
      "2.0\nGood\n"
     ]
    }
   ],
   "source": [
    "# Median\n",
    "\n",
    "# Interestingly, if we were to to find the categorical code within the dataframe itself, I would need to use 'cat': nyc_trees['column'].cat.codes\n",
    "median_index = np.median(ordered_health.codes)\n",
    "median_heath_status = ordered_health[int(median_index)] #Convert to int because median_index is a float\n",
    "print(median_index)\n",
    "print(median_heath_status)\n",
    "\n",
    "# Note: While we can calculate the median of an ordinal category, the mean is only meaningful if the  spacing between each category is equal."
   ]
  },
  {
   "cell_type": "code",
   "execution_count": 103,
   "metadata": {},
   "outputs": [
    {
     "output_type": "stream",
     "name": "stdout",
     "text": [
      "[0, 1, 2, 3, 4, 5, 6, 7, 8, 9, 10, 11, 12, 13, 14, 15, 16, 17, 18, 19, 20, 21, 22, 23, 24, 25, 26, 27, 28, 29, 30, 31, 32, 33, 34, 35, 36, 37, 38, 39, 40, 41, 42, 43, 44, 45, 46, 47, 48, 49, 50, 51, 52, 53, 54, 55, 56, 57, 58, 59, 60, 61, 62, 63, 64, 65, 66, 67, 69, 70, 71, 72, 74, 76, 77, 78, 79, 80, 82, 84, 85, 86, 87, 89, 90, 92, 96, 98, 99, 100, 104, 107, 109, 115, 118, 120, 125, 131, 134, 140]\n"
     ]
    },
    {
     "output_type": "display_data",
     "data": {
      "text/plain": "<Figure size 432x288 with 1 Axes>",
      "image/svg+xml": "<?xml version=\"1.0\" encoding=\"utf-8\" standalone=\"no\"?>\r\n<!DOCTYPE svg PUBLIC \"-//W3C//DTD SVG 1.1//EN\"\r\n  \"http://www.w3.org/Graphics/SVG/1.1/DTD/svg11.dtd\">\r\n<!-- Created with matplotlib (https://matplotlib.org/) -->\r\n<svg height=\"277.314375pt\" version=\"1.1\" viewBox=\"0 0 395.328125 277.314375\" width=\"395.328125pt\" xmlns=\"http://www.w3.org/2000/svg\" xmlns:xlink=\"http://www.w3.org/1999/xlink\">\r\n <metadata>\r\n  <rdf:RDF xmlns:cc=\"http://creativecommons.org/ns#\" xmlns:dc=\"http://purl.org/dc/elements/1.1/\" xmlns:rdf=\"http://www.w3.org/1999/02/22-rdf-syntax-ns#\">\r\n   <cc:Work>\r\n    <dc:type rdf:resource=\"http://purl.org/dc/dcmitype/StillImage\"/>\r\n    <dc:date>2021-04-07T13:30:10.208140</dc:date>\r\n    <dc:format>image/svg+xml</dc:format>\r\n    <dc:creator>\r\n     <cc:Agent>\r\n      <dc:title>Matplotlib v3.3.4, https://matplotlib.org/</dc:title>\r\n     </cc:Agent>\r\n    </dc:creator>\r\n   </cc:Work>\r\n  </rdf:RDF>\r\n </metadata>\r\n <defs>\r\n  <style type=\"text/css\">*{stroke-linecap:butt;stroke-linejoin:round;}</style>\r\n </defs>\r\n <g id=\"figure_1\">\r\n  <g id=\"patch_1\">\r\n   <path d=\"M 0 277.314375 \r\nL 395.328125 277.314375 \r\nL 395.328125 0 \r\nL 0 0 \r\nz\r\n\" style=\"fill:none;\"/>\r\n  </g>\r\n  <g id=\"axes_1\">\r\n   <g id=\"patch_2\">\r\n    <path d=\"M 53.328125 239.758125 \r\nL 388.128125 239.758125 \r\nL 388.128125 22.318125 \r\nL 53.328125 22.318125 \r\nz\r\n\" style=\"fill:#ffffff;\"/>\r\n   </g>\r\n   <g id=\"patch_3\">\r\n    <path clip-path=\"url(#p0aaa38ddb2)\" d=\"M 68.546307 239.758125 \r\nL 71.589943 239.758125 \r\nL 71.589943 109.810356 \r\nL 68.546307 109.810356 \r\nz\r\n\" style=\"fill:#1f77b4;stroke:#000000;stroke-linejoin:miter;\"/>\r\n   </g>\r\n   <g id=\"patch_4\">\r\n    <path clip-path=\"url(#p0aaa38ddb2)\" d=\"M 71.589943 239.758125 \r\nL 74.63358 239.758125 \r\nL 74.63358 196.679549 \r\nL 71.589943 196.679549 \r\nz\r\n\" style=\"fill:#1f77b4;stroke:#000000;stroke-linejoin:miter;\"/>\r\n   </g>\r\n   <g id=\"patch_5\">\r\n    <path clip-path=\"url(#p0aaa38ddb2)\" d=\"M 74.63358 239.758125 \r\nL 77.677216 239.758125 \r\nL 77.677216 32.672411 \r\nL 74.63358 32.672411 \r\nz\r\n\" style=\"fill:#1f77b4;stroke:#000000;stroke-linejoin:miter;\"/>\r\n   </g>\r\n   <g id=\"patch_6\">\r\n    <path clip-path=\"url(#p0aaa38ddb2)\" d=\"M 77.677216 239.758125 \r\nL 80.720852 239.758125 \r\nL 80.720852 128.204789 \r\nL 77.677216 128.204789 \r\nz\r\n\" style=\"fill:#1f77b4;stroke:#000000;stroke-linejoin:miter;\"/>\r\n   </g>\r\n   <g id=\"patch_7\">\r\n    <path clip-path=\"url(#p0aaa38ddb2)\" d=\"M 80.720852 239.758125 \r\nL 83.764489 239.758125 \r\nL 83.764489 150.278109 \r\nL 80.720852 150.278109 \r\nz\r\n\" style=\"fill:#1f77b4;stroke:#000000;stroke-linejoin:miter;\"/>\r\n   </g>\r\n   <g id=\"patch_8\">\r\n    <path clip-path=\"url(#p0aaa38ddb2)\" d=\"M 83.764489 239.758125 \r\nL 86.808125 239.758125 \r\nL 86.808125 88.8051 \r\nL 83.764489 88.8051 \r\nz\r\n\" style=\"fill:#1f77b4;stroke:#000000;stroke-linejoin:miter;\"/>\r\n   </g>\r\n   <g id=\"patch_9\">\r\n    <path clip-path=\"url(#p0aaa38ddb2)\" d=\"M 86.808125 239.758125 \r\nL 89.851761 239.758125 \r\nL 89.851761 176.861031 \r\nL 86.808125 176.861031 \r\nz\r\n\" style=\"fill:#1f77b4;stroke:#000000;stroke-linejoin:miter;\"/>\r\n   </g>\r\n   <g id=\"patch_10\">\r\n    <path clip-path=\"url(#p0aaa38ddb2)\" d=\"M 89.851761 239.758125 \r\nL 92.895398 239.758125 \r\nL 92.895398 92.365313 \r\nL 89.851761 92.365313 \r\nz\r\n\" style=\"fill:#1f77b4;stroke:#000000;stroke-linejoin:miter;\"/>\r\n   </g>\r\n   <g id=\"patch_11\">\r\n    <path clip-path=\"url(#p0aaa38ddb2)\" d=\"M 92.895398 239.758125 \r\nL 95.939034 239.758125 \r\nL 95.939034 154.669038 \r\nL 92.895398 154.669038 \r\nz\r\n\" style=\"fill:#1f77b4;stroke:#000000;stroke-linejoin:miter;\"/>\r\n   </g>\r\n   <g id=\"patch_12\">\r\n    <path clip-path=\"url(#p0aaa38ddb2)\" d=\"M 95.939034 239.758125 \r\nL 98.98267 239.758125 \r\nL 98.98267 167.485804 \r\nL 95.939034 167.485804 \r\nz\r\n\" style=\"fill:#1f77b4;stroke:#000000;stroke-linejoin:miter;\"/>\r\n   </g>\r\n   <g id=\"patch_13\">\r\n    <path clip-path=\"url(#p0aaa38ddb2)\" d=\"M 98.98267 239.758125 \r\nL 102.026307 239.758125 \r\nL 102.026307 84.05815 \r\nL 98.98267 84.05815 \r\nz\r\n\" style=\"fill:#1f77b4;stroke:#000000;stroke-linejoin:miter;\"/>\r\n   </g>\r\n   <g id=\"patch_14\">\r\n    <path clip-path=\"url(#p0aaa38ddb2)\" d=\"M 102.026307 239.758125 \r\nL 105.069943 239.758125 \r\nL 105.069943 173.419492 \r\nL 102.026307 173.419492 \r\nz\r\n\" style=\"fill:#1f77b4;stroke:#000000;stroke-linejoin:miter;\"/>\r\n   </g>\r\n   <g id=\"patch_15\">\r\n    <path clip-path=\"url(#p0aaa38ddb2)\" d=\"M 105.069943 239.758125 \r\nL 108.11358 239.758125 \r\nL 108.11358 109.92903 \r\nL 105.069943 109.92903 \r\nz\r\n\" style=\"fill:#1f77b4;stroke:#000000;stroke-linejoin:miter;\"/>\r\n   </g>\r\n   <g id=\"patch_16\">\r\n    <path clip-path=\"url(#p0aaa38ddb2)\" d=\"M 108.11358 239.758125 \r\nL 111.157216 239.758125 \r\nL 111.157216 191.101883 \r\nL 108.11358 191.101883 \r\nz\r\n\" style=\"fill:#1f77b4;stroke:#000000;stroke-linejoin:miter;\"/>\r\n   </g>\r\n   <g id=\"patch_17\">\r\n    <path clip-path=\"url(#p0aaa38ddb2)\" d=\"M 111.157216 239.758125 \r\nL 114.200852 239.758125 \r\nL 114.200852 171.876733 \r\nL 111.157216 171.876733 \r\nz\r\n\" style=\"fill:#1f77b4;stroke:#000000;stroke-linejoin:miter;\"/>\r\n   </g>\r\n   <g id=\"patch_18\">\r\n    <path clip-path=\"url(#p0aaa38ddb2)\" d=\"M 114.200852 239.758125 \r\nL 117.244489 239.758125 \r\nL 117.244489 147.78596 \r\nL 114.200852 147.78596 \r\nz\r\n\" style=\"fill:#1f77b4;stroke:#000000;stroke-linejoin:miter;\"/>\r\n   </g>\r\n   <g id=\"patch_19\">\r\n    <path clip-path=\"url(#p0aaa38ddb2)\" d=\"M 117.244489 239.758125 \r\nL 120.288125 239.758125 \r\nL 120.288125 200.595784 \r\nL 117.244489 200.595784 \r\nz\r\n\" style=\"fill:#1f77b4;stroke:#000000;stroke-linejoin:miter;\"/>\r\n   </g>\r\n   <g id=\"patch_20\">\r\n    <path clip-path=\"url(#p0aaa38ddb2)\" d=\"M 120.288125 239.758125 \r\nL 123.331761 239.758125 \r\nL 123.331761 144.463094 \r\nL 120.288125 144.463094 \r\nz\r\n\" style=\"fill:#1f77b4;stroke:#000000;stroke-linejoin:miter;\"/>\r\n   </g>\r\n   <g id=\"patch_21\">\r\n    <path clip-path=\"url(#p0aaa38ddb2)\" d=\"M 123.331761 239.758125 \r\nL 126.375398 239.758125 \r\nL 126.375398 207.360188 \r\nL 123.331761 207.360188 \r\nz\r\n\" style=\"fill:#1f77b4;stroke:#000000;stroke-linejoin:miter;\"/>\r\n   </g>\r\n   <g id=\"patch_22\">\r\n    <path clip-path=\"url(#p0aaa38ddb2)\" d=\"M 126.375398 239.758125 \r\nL 129.419034 239.758125 \r\nL 129.419034 207.478862 \r\nL 126.375398 207.478862 \r\nz\r\n\" style=\"fill:#1f77b4;stroke:#000000;stroke-linejoin:miter;\"/>\r\n   </g>\r\n   <g id=\"patch_23\">\r\n    <path clip-path=\"url(#p0aaa38ddb2)\" d=\"M 129.419034 239.758125 \r\nL 132.46267 239.758125 \r\nL 132.46267 183.269414 \r\nL 129.419034 183.269414 \r\nz\r\n\" style=\"fill:#1f77b4;stroke:#000000;stroke-linejoin:miter;\"/>\r\n   </g>\r\n   <g id=\"patch_24\">\r\n    <path clip-path=\"url(#p0aaa38ddb2)\" d=\"M 132.46267 239.758125 \r\nL 135.506307 239.758125 \r\nL 135.506307 199.52772 \r\nL 132.46267 199.52772 \r\nz\r\n\" style=\"fill:#1f77b4;stroke:#000000;stroke-linejoin:miter;\"/>\r\n   </g>\r\n   <g id=\"patch_25\">\r\n    <path clip-path=\"url(#p0aaa38ddb2)\" d=\"M 135.506307 239.758125 \r\nL 138.549943 239.758125 \r\nL 138.549943 193.950053 \r\nL 135.506307 193.950053 \r\nz\r\n\" style=\"fill:#1f77b4;stroke:#000000;stroke-linejoin:miter;\"/>\r\n   </g>\r\n   <g id=\"patch_26\">\r\n    <path clip-path=\"url(#p0aaa38ddb2)\" d=\"M 138.549943 239.758125 \r\nL 141.59358 239.758125 \r\nL 141.59358 222.194408 \r\nL 138.549943 222.194408 \r\nz\r\n\" style=\"fill:#1f77b4;stroke:#000000;stroke-linejoin:miter;\"/>\r\n   </g>\r\n   <g id=\"patch_27\">\r\n    <path clip-path=\"url(#p0aaa38ddb2)\" d=\"M 141.59358 239.758125 \r\nL 144.637216 239.758125 \r\nL 144.637216 223.618493 \r\nL 141.59358 223.618493 \r\nz\r\n\" style=\"fill:#1f77b4;stroke:#000000;stroke-linejoin:miter;\"/>\r\n   </g>\r\n   <g id=\"patch_28\">\r\n    <path clip-path=\"url(#p0aaa38ddb2)\" d=\"M 144.637216 239.758125 \r\nL 147.680852 239.758125 \r\nL 147.680852 196.204854 \r\nL 144.637216 196.204854 \r\nz\r\n\" style=\"fill:#1f77b4;stroke:#000000;stroke-linejoin:miter;\"/>\r\n   </g>\r\n   <g id=\"patch_29\">\r\n    <path clip-path=\"url(#p0aaa38ddb2)\" d=\"M 147.680852 239.758125 \r\nL 150.724489 239.758125 \r\nL 150.724489 227.890749 \r\nL 147.680852 227.890749 \r\nz\r\n\" style=\"fill:#1f77b4;stroke:#000000;stroke-linejoin:miter;\"/>\r\n   </g>\r\n   <g id=\"patch_30\">\r\n    <path clip-path=\"url(#p0aaa38ddb2)\" d=\"M 150.724489 239.758125 \r\nL 153.768125 239.758125 \r\nL 153.768125 216.379394 \r\nL 150.724489 216.379394 \r\nz\r\n\" style=\"fill:#1f77b4;stroke:#000000;stroke-linejoin:miter;\"/>\r\n   </g>\r\n   <g id=\"patch_31\">\r\n    <path clip-path=\"url(#p0aaa38ddb2)\" d=\"M 153.768125 239.758125 \r\nL 156.811761 239.758125 \r\nL 156.811761 223.025125 \r\nL 153.768125 223.025125 \r\nz\r\n\" style=\"fill:#1f77b4;stroke:#000000;stroke-linejoin:miter;\"/>\r\n   </g>\r\n   <g id=\"patch_32\">\r\n    <path clip-path=\"url(#p0aaa38ddb2)\" d=\"M 156.811761 239.758125 \r\nL 159.855398 239.758125 \r\nL 159.855398 232.281678 \r\nL 156.811761 232.281678 \r\nz\r\n\" style=\"fill:#1f77b4;stroke:#000000;stroke-linejoin:miter;\"/>\r\n   </g>\r\n   <g id=\"patch_33\">\r\n    <path clip-path=\"url(#p0aaa38ddb2)\" d=\"M 159.855398 239.758125 \r\nL 162.899034 239.758125 \r\nL 162.899034 226.229316 \r\nL 159.855398 226.229316 \r\nz\r\n\" style=\"fill:#1f77b4;stroke:#000000;stroke-linejoin:miter;\"/>\r\n   </g>\r\n   <g id=\"patch_34\">\r\n    <path clip-path=\"url(#p0aaa38ddb2)\" d=\"M 162.899034 239.758125 \r\nL 165.94267 239.758125 \r\nL 165.94267 234.655153 \r\nL 162.899034 234.655153 \r\nz\r\n\" style=\"fill:#1f77b4;stroke:#000000;stroke-linejoin:miter;\"/>\r\n   </g>\r\n   <g id=\"patch_35\">\r\n    <path clip-path=\"url(#p0aaa38ddb2)\" d=\"M 165.94267 239.758125 \r\nL 168.986307 239.758125 \r\nL 168.986307 227.178706 \r\nL 165.94267 227.178706 \r\nz\r\n\" style=\"fill:#1f77b4;stroke:#000000;stroke-linejoin:miter;\"/>\r\n   </g>\r\n   <g id=\"patch_36\">\r\n    <path clip-path=\"url(#p0aaa38ddb2)\" d=\"M 168.986307 239.758125 \r\nL 172.029943 239.758125 \r\nL 172.029943 236.316586 \r\nL 168.986307 236.316586 \r\nz\r\n\" style=\"fill:#1f77b4;stroke:#000000;stroke-linejoin:miter;\"/>\r\n   </g>\r\n   <g id=\"patch_37\">\r\n    <path clip-path=\"url(#p0aaa38ddb2)\" d=\"M 172.029943 239.758125 \r\nL 175.07358 239.758125 \r\nL 175.07358 235.129848 \r\nL 172.029943 235.129848 \r\nz\r\n\" style=\"fill:#1f77b4;stroke:#000000;stroke-linejoin:miter;\"/>\r\n   </g>\r\n   <g id=\"patch_38\">\r\n    <path clip-path=\"url(#p0aaa38ddb2)\" d=\"M 175.07358 239.758125 \r\nL 178.117216 239.758125 \r\nL 178.117216 231.688309 \r\nL 175.07358 231.688309 \r\nz\r\n\" style=\"fill:#1f77b4;stroke:#000000;stroke-linejoin:miter;\"/>\r\n   </g>\r\n   <g id=\"patch_39\">\r\n    <path clip-path=\"url(#p0aaa38ddb2)\" d=\"M 178.117216 239.758125 \r\nL 181.160852 239.758125 \r\nL 181.160852 236.909955 \r\nL 178.117216 236.909955 \r\nz\r\n\" style=\"fill:#1f77b4;stroke:#000000;stroke-linejoin:miter;\"/>\r\n   </g>\r\n   <g id=\"patch_40\">\r\n    <path clip-path=\"url(#p0aaa38ddb2)\" d=\"M 181.160852 239.758125 \r\nL 184.204489 239.758125 \r\nL 184.204489 234.061784 \r\nL 181.160852 234.061784 \r\nz\r\n\" style=\"fill:#1f77b4;stroke:#000000;stroke-linejoin:miter;\"/>\r\n   </g>\r\n   <g id=\"patch_41\">\r\n    <path clip-path=\"url(#p0aaa38ddb2)\" d=\"M 184.204489 239.758125 \r\nL 187.248125 239.758125 \r\nL 187.248125 237.859345 \r\nL 184.204489 237.859345 \r\nz\r\n\" style=\"fill:#1f77b4;stroke:#000000;stroke-linejoin:miter;\"/>\r\n   </g>\r\n   <g id=\"patch_42\">\r\n    <path clip-path=\"url(#p0aaa38ddb2)\" d=\"M 187.248125 239.758125 \r\nL 190.291761 239.758125 \r\nL 190.291761 237.978019 \r\nL 187.248125 237.978019 \r\nz\r\n\" style=\"fill:#1f77b4;stroke:#000000;stroke-linejoin:miter;\"/>\r\n   </g>\r\n   <g id=\"patch_43\">\r\n    <path clip-path=\"url(#p0aaa38ddb2)\" d=\"M 190.291761 239.758125 \r\nL 193.335398 239.758125 \r\nL 193.335398 238.33404 \r\nL 190.291761 238.33404 \r\nz\r\n\" style=\"fill:#1f77b4;stroke:#000000;stroke-linejoin:miter;\"/>\r\n   </g>\r\n   <g id=\"patch_44\">\r\n    <path clip-path=\"url(#p0aaa38ddb2)\" d=\"M 193.335398 239.758125 \r\nL 196.379034 239.758125 \r\nL 196.379034 238.33404 \r\nL 193.335398 238.33404 \r\nz\r\n\" style=\"fill:#1f77b4;stroke:#000000;stroke-linejoin:miter;\"/>\r\n   </g>\r\n   <g id=\"patch_45\">\r\n    <path clip-path=\"url(#p0aaa38ddb2)\" d=\"M 196.379034 239.758125 \r\nL 199.42267 239.758125 \r\nL 199.42267 237.859345 \r\nL 196.379034 237.859345 \r\nz\r\n\" style=\"fill:#1f77b4;stroke:#000000;stroke-linejoin:miter;\"/>\r\n   </g>\r\n   <g id=\"patch_46\">\r\n    <path clip-path=\"url(#p0aaa38ddb2)\" d=\"M 199.42267 239.758125 \r\nL 202.466307 239.758125 \r\nL 202.466307 239.164756 \r\nL 199.42267 239.164756 \r\nz\r\n\" style=\"fill:#1f77b4;stroke:#000000;stroke-linejoin:miter;\"/>\r\n   </g>\r\n   <g id=\"patch_47\">\r\n    <path clip-path=\"url(#p0aaa38ddb2)\" d=\"M 202.466307 239.758125 \r\nL 205.509943 239.758125 \r\nL 205.509943 239.28343 \r\nL 202.466307 239.28343 \r\nz\r\n\" style=\"fill:#1f77b4;stroke:#000000;stroke-linejoin:miter;\"/>\r\n   </g>\r\n   <g id=\"patch_48\">\r\n    <path clip-path=\"url(#p0aaa38ddb2)\" d=\"M 205.509943 239.758125 \r\nL 208.55358 239.758125 \r\nL 208.55358 238.808735 \r\nL 205.509943 238.808735 \r\nz\r\n\" style=\"fill:#1f77b4;stroke:#000000;stroke-linejoin:miter;\"/>\r\n   </g>\r\n   <g id=\"patch_49\">\r\n    <path clip-path=\"url(#p0aaa38ddb2)\" d=\"M 208.55358 239.758125 \r\nL 211.597216 239.758125 \r\nL 211.597216 238.808735 \r\nL 208.55358 238.808735 \r\nz\r\n\" style=\"fill:#1f77b4;stroke:#000000;stroke-linejoin:miter;\"/>\r\n   </g>\r\n   <g id=\"patch_50\">\r\n    <path clip-path=\"url(#p0aaa38ddb2)\" d=\"M 211.597216 239.758125 \r\nL 214.640852 239.758125 \r\nL 214.640852 238.927409 \r\nL 211.597216 238.927409 \r\nz\r\n\" style=\"fill:#1f77b4;stroke:#000000;stroke-linejoin:miter;\"/>\r\n   </g>\r\n   <g id=\"patch_51\">\r\n    <path clip-path=\"url(#p0aaa38ddb2)\" d=\"M 214.640852 239.758125 \r\nL 217.684489 239.758125 \r\nL 217.684489 239.758125 \r\nL 214.640852 239.758125 \r\nz\r\n\" style=\"fill:#1f77b4;stroke:#000000;stroke-linejoin:miter;\"/>\r\n   </g>\r\n   <g id=\"patch_52\">\r\n    <path clip-path=\"url(#p0aaa38ddb2)\" d=\"M 217.684489 239.758125 \r\nL 220.728125 239.758125 \r\nL 220.728125 239.520777 \r\nL 217.684489 239.520777 \r\nz\r\n\" style=\"fill:#1f77b4;stroke:#000000;stroke-linejoin:miter;\"/>\r\n   </g>\r\n   <g id=\"patch_53\">\r\n    <path clip-path=\"url(#p0aaa38ddb2)\" d=\"M 220.728125 239.758125 \r\nL 223.771761 239.758125 \r\nL 223.771761 238.927409 \r\nL 220.728125 238.927409 \r\nz\r\n\" style=\"fill:#1f77b4;stroke:#000000;stroke-linejoin:miter;\"/>\r\n   </g>\r\n   <g id=\"patch_54\">\r\n    <path clip-path=\"url(#p0aaa38ddb2)\" d=\"M 223.771761 239.758125 \r\nL 226.815398 239.758125 \r\nL 226.815398 239.639451 \r\nL 223.771761 239.639451 \r\nz\r\n\" style=\"fill:#1f77b4;stroke:#000000;stroke-linejoin:miter;\"/>\r\n   </g>\r\n   <g id=\"patch_55\">\r\n    <path clip-path=\"url(#p0aaa38ddb2)\" d=\"M 226.815398 239.758125 \r\nL 229.859034 239.758125 \r\nL 229.859034 239.520777 \r\nL 226.815398 239.520777 \r\nz\r\n\" style=\"fill:#1f77b4;stroke:#000000;stroke-linejoin:miter;\"/>\r\n   </g>\r\n   <g id=\"patch_56\">\r\n    <path clip-path=\"url(#p0aaa38ddb2)\" d=\"M 229.859034 239.758125 \r\nL 232.90267 239.758125 \r\nL 232.90267 239.758125 \r\nL 229.859034 239.758125 \r\nz\r\n\" style=\"fill:#1f77b4;stroke:#000000;stroke-linejoin:miter;\"/>\r\n   </g>\r\n   <g id=\"patch_57\">\r\n    <path clip-path=\"url(#p0aaa38ddb2)\" d=\"M 232.90267 239.758125 \r\nL 235.946307 239.758125 \r\nL 235.946307 239.402104 \r\nL 232.90267 239.402104 \r\nz\r\n\" style=\"fill:#1f77b4;stroke:#000000;stroke-linejoin:miter;\"/>\r\n   </g>\r\n   <g id=\"patch_58\">\r\n    <path clip-path=\"url(#p0aaa38ddb2)\" d=\"M 235.946307 239.758125 \r\nL 238.989943 239.758125 \r\nL 238.989943 238.808735 \r\nL 235.946307 238.808735 \r\nz\r\n\" style=\"fill:#1f77b4;stroke:#000000;stroke-linejoin:miter;\"/>\r\n   </g>\r\n   <g id=\"patch_59\">\r\n    <path clip-path=\"url(#p0aaa38ddb2)\" d=\"M 238.989943 239.758125 \r\nL 242.03358 239.758125 \r\nL 242.03358 239.402104 \r\nL 238.989943 239.402104 \r\nz\r\n\" style=\"fill:#1f77b4;stroke:#000000;stroke-linejoin:miter;\"/>\r\n   </g>\r\n   <g id=\"patch_60\">\r\n    <path clip-path=\"url(#p0aaa38ddb2)\" d=\"M 242.03358 239.758125 \r\nL 245.077216 239.758125 \r\nL 245.077216 239.28343 \r\nL 242.03358 239.28343 \r\nz\r\n\" style=\"fill:#1f77b4;stroke:#000000;stroke-linejoin:miter;\"/>\r\n   </g>\r\n   <g id=\"patch_61\">\r\n    <path clip-path=\"url(#p0aaa38ddb2)\" d=\"M 245.077216 239.758125 \r\nL 248.120852 239.758125 \r\nL 248.120852 239.639451 \r\nL 245.077216 239.639451 \r\nz\r\n\" style=\"fill:#1f77b4;stroke:#000000;stroke-linejoin:miter;\"/>\r\n   </g>\r\n   <g id=\"patch_62\">\r\n    <path clip-path=\"url(#p0aaa38ddb2)\" d=\"M 248.120852 239.758125 \r\nL 251.164489 239.758125 \r\nL 251.164489 239.758125 \r\nL 248.120852 239.758125 \r\nz\r\n\" style=\"fill:#1f77b4;stroke:#000000;stroke-linejoin:miter;\"/>\r\n   </g>\r\n   <g id=\"patch_63\">\r\n    <path clip-path=\"url(#p0aaa38ddb2)\" d=\"M 251.164489 239.758125 \r\nL 254.208125 239.758125 \r\nL 254.208125 239.046082 \r\nL 251.164489 239.046082 \r\nz\r\n\" style=\"fill:#1f77b4;stroke:#000000;stroke-linejoin:miter;\"/>\r\n   </g>\r\n   <g id=\"patch_64\">\r\n    <path clip-path=\"url(#p0aaa38ddb2)\" d=\"M 254.208125 239.758125 \r\nL 257.251761 239.758125 \r\nL 257.251761 239.639451 \r\nL 254.208125 239.639451 \r\nz\r\n\" style=\"fill:#1f77b4;stroke:#000000;stroke-linejoin:miter;\"/>\r\n   </g>\r\n   <g id=\"patch_65\">\r\n    <path clip-path=\"url(#p0aaa38ddb2)\" d=\"M 257.251761 239.758125 \r\nL 260.295398 239.758125 \r\nL 260.295398 239.520777 \r\nL 257.251761 239.520777 \r\nz\r\n\" style=\"fill:#1f77b4;stroke:#000000;stroke-linejoin:miter;\"/>\r\n   </g>\r\n   <g id=\"patch_66\">\r\n    <path clip-path=\"url(#p0aaa38ddb2)\" d=\"M 260.295398 239.758125 \r\nL 263.339034 239.758125 \r\nL 263.339034 239.520777 \r\nL 260.295398 239.520777 \r\nz\r\n\" style=\"fill:#1f77b4;stroke:#000000;stroke-linejoin:miter;\"/>\r\n   </g>\r\n   <g id=\"patch_67\">\r\n    <path clip-path=\"url(#p0aaa38ddb2)\" d=\"M 263.339034 239.758125 \r\nL 266.38267 239.758125 \r\nL 266.38267 239.520777 \r\nL 263.339034 239.520777 \r\nz\r\n\" style=\"fill:#1f77b4;stroke:#000000;stroke-linejoin:miter;\"/>\r\n   </g>\r\n   <g id=\"patch_68\">\r\n    <path clip-path=\"url(#p0aaa38ddb2)\" d=\"M 266.38267 239.758125 \r\nL 269.426307 239.758125 \r\nL 269.426307 239.639451 \r\nL 266.38267 239.639451 \r\nz\r\n\" style=\"fill:#1f77b4;stroke:#000000;stroke-linejoin:miter;\"/>\r\n   </g>\r\n   <g id=\"patch_69\">\r\n    <path clip-path=\"url(#p0aaa38ddb2)\" d=\"M 269.426307 239.758125 \r\nL 272.469943 239.758125 \r\nL 272.469943 239.758125 \r\nL 269.426307 239.758125 \r\nz\r\n\" style=\"fill:#1f77b4;stroke:#000000;stroke-linejoin:miter;\"/>\r\n   </g>\r\n   <g id=\"patch_70\">\r\n    <path clip-path=\"url(#p0aaa38ddb2)\" d=\"M 272.469943 239.758125 \r\nL 275.51358 239.758125 \r\nL 275.51358 239.758125 \r\nL 272.469943 239.758125 \r\nz\r\n\" style=\"fill:#1f77b4;stroke:#000000;stroke-linejoin:miter;\"/>\r\n   </g>\r\n   <g id=\"patch_71\">\r\n    <path clip-path=\"url(#p0aaa38ddb2)\" d=\"M 275.51358 239.758125 \r\nL 278.557216 239.758125 \r\nL 278.557216 239.639451 \r\nL 275.51358 239.639451 \r\nz\r\n\" style=\"fill:#1f77b4;stroke:#000000;stroke-linejoin:miter;\"/>\r\n   </g>\r\n   <g id=\"patch_72\">\r\n    <path clip-path=\"url(#p0aaa38ddb2)\" d=\"M 278.557216 239.758125 \r\nL 281.600852 239.758125 \r\nL 281.600852 239.758125 \r\nL 278.557216 239.758125 \r\nz\r\n\" style=\"fill:#1f77b4;stroke:#000000;stroke-linejoin:miter;\"/>\r\n   </g>\r\n   <g id=\"patch_73\">\r\n    <path clip-path=\"url(#p0aaa38ddb2)\" d=\"M 281.600852 239.758125 \r\nL 284.644489 239.758125 \r\nL 284.644489 239.520777 \r\nL 281.600852 239.520777 \r\nz\r\n\" style=\"fill:#1f77b4;stroke:#000000;stroke-linejoin:miter;\"/>\r\n   </g>\r\n   <g id=\"patch_74\">\r\n    <path clip-path=\"url(#p0aaa38ddb2)\" d=\"M 284.644489 239.758125 \r\nL 287.688125 239.758125 \r\nL 287.688125 239.520777 \r\nL 284.644489 239.520777 \r\nz\r\n\" style=\"fill:#1f77b4;stroke:#000000;stroke-linejoin:miter;\"/>\r\n   </g>\r\n   <g id=\"patch_75\">\r\n    <path clip-path=\"url(#p0aaa38ddb2)\" d=\"M 287.688125 239.758125 \r\nL 290.731761 239.758125 \r\nL 290.731761 239.758125 \r\nL 287.688125 239.758125 \r\nz\r\n\" style=\"fill:#1f77b4;stroke:#000000;stroke-linejoin:miter;\"/>\r\n   </g>\r\n   <g id=\"patch_76\">\r\n    <path clip-path=\"url(#p0aaa38ddb2)\" d=\"M 290.731761 239.758125 \r\nL 293.775398 239.758125 \r\nL 293.775398 239.758125 \r\nL 290.731761 239.758125 \r\nz\r\n\" style=\"fill:#1f77b4;stroke:#000000;stroke-linejoin:miter;\"/>\r\n   </g>\r\n   <g id=\"patch_77\">\r\n    <path clip-path=\"url(#p0aaa38ddb2)\" d=\"M 293.775398 239.758125 \r\nL 296.819034 239.758125 \r\nL 296.819034 239.639451 \r\nL 293.775398 239.639451 \r\nz\r\n\" style=\"fill:#1f77b4;stroke:#000000;stroke-linejoin:miter;\"/>\r\n   </g>\r\n   <g id=\"patch_78\">\r\n    <path clip-path=\"url(#p0aaa38ddb2)\" d=\"M 296.819034 239.758125 \r\nL 299.86267 239.758125 \r\nL 299.86267 239.758125 \r\nL 296.819034 239.758125 \r\nz\r\n\" style=\"fill:#1f77b4;stroke:#000000;stroke-linejoin:miter;\"/>\r\n   </g>\r\n   <g id=\"patch_79\">\r\n    <path clip-path=\"url(#p0aaa38ddb2)\" d=\"M 299.86267 239.758125 \r\nL 302.906307 239.758125 \r\nL 302.906307 239.639451 \r\nL 299.86267 239.639451 \r\nz\r\n\" style=\"fill:#1f77b4;stroke:#000000;stroke-linejoin:miter;\"/>\r\n   </g>\r\n   <g id=\"patch_80\">\r\n    <path clip-path=\"url(#p0aaa38ddb2)\" d=\"M 302.906307 239.758125 \r\nL 305.949943 239.758125 \r\nL 305.949943 239.639451 \r\nL 302.906307 239.639451 \r\nz\r\n\" style=\"fill:#1f77b4;stroke:#000000;stroke-linejoin:miter;\"/>\r\n   </g>\r\n   <g id=\"patch_81\">\r\n    <path clip-path=\"url(#p0aaa38ddb2)\" d=\"M 305.949943 239.758125 \r\nL 308.99358 239.758125 \r\nL 308.99358 239.758125 \r\nL 305.949943 239.758125 \r\nz\r\n\" style=\"fill:#1f77b4;stroke:#000000;stroke-linejoin:miter;\"/>\r\n   </g>\r\n   <g id=\"patch_82\">\r\n    <path clip-path=\"url(#p0aaa38ddb2)\" d=\"M 308.99358 239.758125 \r\nL 312.037216 239.758125 \r\nL 312.037216 239.758125 \r\nL 308.99358 239.758125 \r\nz\r\n\" style=\"fill:#1f77b4;stroke:#000000;stroke-linejoin:miter;\"/>\r\n   </g>\r\n   <g id=\"patch_83\">\r\n    <path clip-path=\"url(#p0aaa38ddb2)\" d=\"M 312.037216 239.758125 \r\nL 315.080852 239.758125 \r\nL 315.080852 239.758125 \r\nL 312.037216 239.758125 \r\nz\r\n\" style=\"fill:#1f77b4;stroke:#000000;stroke-linejoin:miter;\"/>\r\n   </g>\r\n   <g id=\"patch_84\">\r\n    <path clip-path=\"url(#p0aaa38ddb2)\" d=\"M 315.080852 239.758125 \r\nL 318.124489 239.758125 \r\nL 318.124489 239.758125 \r\nL 315.080852 239.758125 \r\nz\r\n\" style=\"fill:#1f77b4;stroke:#000000;stroke-linejoin:miter;\"/>\r\n   </g>\r\n   <g id=\"patch_85\">\r\n    <path clip-path=\"url(#p0aaa38ddb2)\" d=\"M 318.124489 239.758125 \r\nL 321.168125 239.758125 \r\nL 321.168125 239.639451 \r\nL 318.124489 239.639451 \r\nz\r\n\" style=\"fill:#1f77b4;stroke:#000000;stroke-linejoin:miter;\"/>\r\n   </g>\r\n   <g id=\"patch_86\">\r\n    <path clip-path=\"url(#p0aaa38ddb2)\" d=\"M 321.168125 239.758125 \r\nL 324.211761 239.758125 \r\nL 324.211761 239.758125 \r\nL 321.168125 239.758125 \r\nz\r\n\" style=\"fill:#1f77b4;stroke:#000000;stroke-linejoin:miter;\"/>\r\n   </g>\r\n   <g id=\"patch_87\">\r\n    <path clip-path=\"url(#p0aaa38ddb2)\" d=\"M 324.211761 239.758125 \r\nL 327.255398 239.758125 \r\nL 327.255398 239.639451 \r\nL 324.211761 239.639451 \r\nz\r\n\" style=\"fill:#1f77b4;stroke:#000000;stroke-linejoin:miter;\"/>\r\n   </g>\r\n   <g id=\"patch_88\">\r\n    <path clip-path=\"url(#p0aaa38ddb2)\" d=\"M 327.255398 239.758125 \r\nL 330.299034 239.758125 \r\nL 330.299034 239.639451 \r\nL 327.255398 239.639451 \r\nz\r\n\" style=\"fill:#1f77b4;stroke:#000000;stroke-linejoin:miter;\"/>\r\n   </g>\r\n   <g id=\"patch_89\">\r\n    <path clip-path=\"url(#p0aaa38ddb2)\" d=\"M 330.299034 239.758125 \r\nL 333.34267 239.758125 \r\nL 333.34267 239.758125 \r\nL 330.299034 239.758125 \r\nz\r\n\" style=\"fill:#1f77b4;stroke:#000000;stroke-linejoin:miter;\"/>\r\n   </g>\r\n   <g id=\"patch_90\">\r\n    <path clip-path=\"url(#p0aaa38ddb2)\" d=\"M 333.34267 239.758125 \r\nL 336.386307 239.758125 \r\nL 336.386307 239.758125 \r\nL 333.34267 239.758125 \r\nz\r\n\" style=\"fill:#1f77b4;stroke:#000000;stroke-linejoin:miter;\"/>\r\n   </g>\r\n   <g id=\"patch_91\">\r\n    <path clip-path=\"url(#p0aaa38ddb2)\" d=\"M 336.386307 239.758125 \r\nL 339.429943 239.758125 \r\nL 339.429943 239.758125 \r\nL 336.386307 239.758125 \r\nz\r\n\" style=\"fill:#1f77b4;stroke:#000000;stroke-linejoin:miter;\"/>\r\n   </g>\r\n   <g id=\"patch_92\">\r\n    <path clip-path=\"url(#p0aaa38ddb2)\" d=\"M 339.429943 239.758125 \r\nL 342.47358 239.758125 \r\nL 342.47358 239.639451 \r\nL 339.429943 239.639451 \r\nz\r\n\" style=\"fill:#1f77b4;stroke:#000000;stroke-linejoin:miter;\"/>\r\n   </g>\r\n   <g id=\"patch_93\">\r\n    <path clip-path=\"url(#p0aaa38ddb2)\" d=\"M 342.47358 239.758125 \r\nL 345.517216 239.758125 \r\nL 345.517216 239.758125 \r\nL 342.47358 239.758125 \r\nz\r\n\" style=\"fill:#1f77b4;stroke:#000000;stroke-linejoin:miter;\"/>\r\n   </g>\r\n   <g id=\"patch_94\">\r\n    <path clip-path=\"url(#p0aaa38ddb2)\" d=\"M 345.517216 239.758125 \r\nL 348.560852 239.758125 \r\nL 348.560852 239.758125 \r\nL 345.517216 239.758125 \r\nz\r\n\" style=\"fill:#1f77b4;stroke:#000000;stroke-linejoin:miter;\"/>\r\n   </g>\r\n   <g id=\"patch_95\">\r\n    <path clip-path=\"url(#p0aaa38ddb2)\" d=\"M 348.560852 239.758125 \r\nL 351.604489 239.758125 \r\nL 351.604489 239.758125 \r\nL 348.560852 239.758125 \r\nz\r\n\" style=\"fill:#1f77b4;stroke:#000000;stroke-linejoin:miter;\"/>\r\n   </g>\r\n   <g id=\"patch_96\">\r\n    <path clip-path=\"url(#p0aaa38ddb2)\" d=\"M 351.604489 239.758125 \r\nL 354.648125 239.758125 \r\nL 354.648125 239.639451 \r\nL 351.604489 239.639451 \r\nz\r\n\" style=\"fill:#1f77b4;stroke:#000000;stroke-linejoin:miter;\"/>\r\n   </g>\r\n   <g id=\"patch_97\">\r\n    <path clip-path=\"url(#p0aaa38ddb2)\" d=\"M 354.648125 239.758125 \r\nL 357.691761 239.758125 \r\nL 357.691761 239.758125 \r\nL 354.648125 239.758125 \r\nz\r\n\" style=\"fill:#1f77b4;stroke:#000000;stroke-linejoin:miter;\"/>\r\n   </g>\r\n   <g id=\"patch_98\">\r\n    <path clip-path=\"url(#p0aaa38ddb2)\" d=\"M 357.691761 239.758125 \r\nL 360.735398 239.758125 \r\nL 360.735398 239.639451 \r\nL 357.691761 239.639451 \r\nz\r\n\" style=\"fill:#1f77b4;stroke:#000000;stroke-linejoin:miter;\"/>\r\n   </g>\r\n   <g id=\"patch_99\">\r\n    <path clip-path=\"url(#p0aaa38ddb2)\" d=\"M 360.735398 239.758125 \r\nL 363.779034 239.758125 \r\nL 363.779034 239.758125 \r\nL 360.735398 239.758125 \r\nz\r\n\" style=\"fill:#1f77b4;stroke:#000000;stroke-linejoin:miter;\"/>\r\n   </g>\r\n   <g id=\"patch_100\">\r\n    <path clip-path=\"url(#p0aaa38ddb2)\" d=\"M 363.779034 239.758125 \r\nL 366.82267 239.758125 \r\nL 366.82267 239.758125 \r\nL 363.779034 239.758125 \r\nz\r\n\" style=\"fill:#1f77b4;stroke:#000000;stroke-linejoin:miter;\"/>\r\n   </g>\r\n   <g id=\"patch_101\">\r\n    <path clip-path=\"url(#p0aaa38ddb2)\" d=\"M 366.82267 239.758125 \r\nL 369.866307 239.758125 \r\nL 369.866307 239.758125 \r\nL 366.82267 239.758125 \r\nz\r\n\" style=\"fill:#1f77b4;stroke:#000000;stroke-linejoin:miter;\"/>\r\n   </g>\r\n   <g id=\"patch_102\">\r\n    <path clip-path=\"url(#p0aaa38ddb2)\" d=\"M 369.866307 239.758125 \r\nL 372.909943 239.758125 \r\nL 372.909943 239.639451 \r\nL 369.866307 239.639451 \r\nz\r\n\" style=\"fill:#1f77b4;stroke:#000000;stroke-linejoin:miter;\"/>\r\n   </g>\r\n   <g id=\"matplotlib.axis_1\">\r\n    <g id=\"xtick_1\">\r\n     <g id=\"line2d_1\">\r\n      <defs>\r\n       <path d=\"M 0 0 \r\nL 0 3.5 \r\n\" id=\"md8f3380b38\" style=\"stroke:#000000;stroke-width:0.8;\"/>\r\n      </defs>\r\n      <g>\r\n       <use style=\"stroke:#000000;stroke-width:0.8;\" x=\"68.546307\" xlink:href=\"#md8f3380b38\" y=\"239.758125\"/>\r\n      </g>\r\n     </g>\r\n     <g id=\"text_1\">\r\n      <!-- 0 -->\r\n      <g transform=\"translate(65.365057 254.356562)scale(0.1 -0.1)\">\r\n       <defs>\r\n        <path d=\"M 31.78125 66.40625 \r\nQ 24.171875 66.40625 20.328125 58.90625 \r\nQ 16.5 51.421875 16.5 36.375 \r\nQ 16.5 21.390625 20.328125 13.890625 \r\nQ 24.171875 6.390625 31.78125 6.390625 \r\nQ 39.453125 6.390625 43.28125 13.890625 \r\nQ 47.125 21.390625 47.125 36.375 \r\nQ 47.125 51.421875 43.28125 58.90625 \r\nQ 39.453125 66.40625 31.78125 66.40625 \r\nz\r\nM 31.78125 74.21875 \r\nQ 44.046875 74.21875 50.515625 64.515625 \r\nQ 56.984375 54.828125 56.984375 36.375 \r\nQ 56.984375 17.96875 50.515625 8.265625 \r\nQ 44.046875 -1.421875 31.78125 -1.421875 \r\nQ 19.53125 -1.421875 13.0625 8.265625 \r\nQ 6.59375 17.96875 6.59375 36.375 \r\nQ 6.59375 54.828125 13.0625 64.515625 \r\nQ 19.53125 74.21875 31.78125 74.21875 \r\nz\r\n\" id=\"DejaVuSans-48\"/>\r\n       </defs>\r\n       <use xlink:href=\"#DejaVuSans-48\"/>\r\n      </g>\r\n     </g>\r\n    </g>\r\n    <g id=\"xtick_2\">\r\n     <g id=\"line2d_2\">\r\n      <g>\r\n       <use style=\"stroke:#000000;stroke-width:0.8;\" x=\"112.026826\" xlink:href=\"#md8f3380b38\" y=\"239.758125\"/>\r\n      </g>\r\n     </g>\r\n     <g id=\"text_2\">\r\n      <!-- 20 -->\r\n      <g transform=\"translate(105.664326 254.356562)scale(0.1 -0.1)\">\r\n       <defs>\r\n        <path d=\"M 19.1875 8.296875 \r\nL 53.609375 8.296875 \r\nL 53.609375 0 \r\nL 7.328125 0 \r\nL 7.328125 8.296875 \r\nQ 12.9375 14.109375 22.625 23.890625 \r\nQ 32.328125 33.6875 34.8125 36.53125 \r\nQ 39.546875 41.84375 41.421875 45.53125 \r\nQ 43.3125 49.21875 43.3125 52.78125 \r\nQ 43.3125 58.59375 39.234375 62.25 \r\nQ 35.15625 65.921875 28.609375 65.921875 \r\nQ 23.96875 65.921875 18.8125 64.3125 \r\nQ 13.671875 62.703125 7.8125 59.421875 \r\nL 7.8125 69.390625 \r\nQ 13.765625 71.78125 18.9375 73 \r\nQ 24.125 74.21875 28.421875 74.21875 \r\nQ 39.75 74.21875 46.484375 68.546875 \r\nQ 53.21875 62.890625 53.21875 53.421875 \r\nQ 53.21875 48.921875 51.53125 44.890625 \r\nQ 49.859375 40.875 45.40625 35.40625 \r\nQ 44.1875 33.984375 37.640625 27.21875 \r\nQ 31.109375 20.453125 19.1875 8.296875 \r\nz\r\n\" id=\"DejaVuSans-50\"/>\r\n       </defs>\r\n       <use xlink:href=\"#DejaVuSans-50\"/>\r\n       <use x=\"63.623047\" xlink:href=\"#DejaVuSans-48\"/>\r\n      </g>\r\n     </g>\r\n    </g>\r\n    <g id=\"xtick_3\">\r\n     <g id=\"line2d_3\">\r\n      <g>\r\n       <use style=\"stroke:#000000;stroke-width:0.8;\" x=\"155.507346\" xlink:href=\"#md8f3380b38\" y=\"239.758125\"/>\r\n      </g>\r\n     </g>\r\n     <g id=\"text_3\">\r\n      <!-- 40 -->\r\n      <g transform=\"translate(149.144846 254.356562)scale(0.1 -0.1)\">\r\n       <defs>\r\n        <path d=\"M 37.796875 64.3125 \r\nL 12.890625 25.390625 \r\nL 37.796875 25.390625 \r\nz\r\nM 35.203125 72.90625 \r\nL 47.609375 72.90625 \r\nL 47.609375 25.390625 \r\nL 58.015625 25.390625 \r\nL 58.015625 17.1875 \r\nL 47.609375 17.1875 \r\nL 47.609375 0 \r\nL 37.796875 0 \r\nL 37.796875 17.1875 \r\nL 4.890625 17.1875 \r\nL 4.890625 26.703125 \r\nz\r\n\" id=\"DejaVuSans-52\"/>\r\n       </defs>\r\n       <use xlink:href=\"#DejaVuSans-52\"/>\r\n       <use x=\"63.623047\" xlink:href=\"#DejaVuSans-48\"/>\r\n      </g>\r\n     </g>\r\n    </g>\r\n    <g id=\"xtick_4\">\r\n     <g id=\"line2d_4\">\r\n      <g>\r\n       <use style=\"stroke:#000000;stroke-width:0.8;\" x=\"198.987865\" xlink:href=\"#md8f3380b38\" y=\"239.758125\"/>\r\n      </g>\r\n     </g>\r\n     <g id=\"text_4\">\r\n      <!-- 60 -->\r\n      <g transform=\"translate(192.625365 254.356562)scale(0.1 -0.1)\">\r\n       <defs>\r\n        <path d=\"M 33.015625 40.375 \r\nQ 26.375 40.375 22.484375 35.828125 \r\nQ 18.609375 31.296875 18.609375 23.390625 \r\nQ 18.609375 15.53125 22.484375 10.953125 \r\nQ 26.375 6.390625 33.015625 6.390625 \r\nQ 39.65625 6.390625 43.53125 10.953125 \r\nQ 47.40625 15.53125 47.40625 23.390625 \r\nQ 47.40625 31.296875 43.53125 35.828125 \r\nQ 39.65625 40.375 33.015625 40.375 \r\nz\r\nM 52.59375 71.296875 \r\nL 52.59375 62.3125 \r\nQ 48.875 64.0625 45.09375 64.984375 \r\nQ 41.3125 65.921875 37.59375 65.921875 \r\nQ 27.828125 65.921875 22.671875 59.328125 \r\nQ 17.53125 52.734375 16.796875 39.40625 \r\nQ 19.671875 43.65625 24.015625 45.921875 \r\nQ 28.375 48.1875 33.59375 48.1875 \r\nQ 44.578125 48.1875 50.953125 41.515625 \r\nQ 57.328125 34.859375 57.328125 23.390625 \r\nQ 57.328125 12.15625 50.6875 5.359375 \r\nQ 44.046875 -1.421875 33.015625 -1.421875 \r\nQ 20.359375 -1.421875 13.671875 8.265625 \r\nQ 6.984375 17.96875 6.984375 36.375 \r\nQ 6.984375 53.65625 15.1875 63.9375 \r\nQ 23.390625 74.21875 37.203125 74.21875 \r\nQ 40.921875 74.21875 44.703125 73.484375 \r\nQ 48.484375 72.75 52.59375 71.296875 \r\nz\r\n\" id=\"DejaVuSans-54\"/>\r\n       </defs>\r\n       <use xlink:href=\"#DejaVuSans-54\"/>\r\n       <use x=\"63.623047\" xlink:href=\"#DejaVuSans-48\"/>\r\n      </g>\r\n     </g>\r\n    </g>\r\n    <g id=\"xtick_5\">\r\n     <g id=\"line2d_5\">\r\n      <g>\r\n       <use style=\"stroke:#000000;stroke-width:0.8;\" x=\"242.468385\" xlink:href=\"#md8f3380b38\" y=\"239.758125\"/>\r\n      </g>\r\n     </g>\r\n     <g id=\"text_5\">\r\n      <!-- 80 -->\r\n      <g transform=\"translate(236.105885 254.356562)scale(0.1 -0.1)\">\r\n       <defs>\r\n        <path d=\"M 31.78125 34.625 \r\nQ 24.75 34.625 20.71875 30.859375 \r\nQ 16.703125 27.09375 16.703125 20.515625 \r\nQ 16.703125 13.921875 20.71875 10.15625 \r\nQ 24.75 6.390625 31.78125 6.390625 \r\nQ 38.8125 6.390625 42.859375 10.171875 \r\nQ 46.921875 13.96875 46.921875 20.515625 \r\nQ 46.921875 27.09375 42.890625 30.859375 \r\nQ 38.875 34.625 31.78125 34.625 \r\nz\r\nM 21.921875 38.8125 \r\nQ 15.578125 40.375 12.03125 44.71875 \r\nQ 8.5 49.078125 8.5 55.328125 \r\nQ 8.5 64.0625 14.71875 69.140625 \r\nQ 20.953125 74.21875 31.78125 74.21875 \r\nQ 42.671875 74.21875 48.875 69.140625 \r\nQ 55.078125 64.0625 55.078125 55.328125 \r\nQ 55.078125 49.078125 51.53125 44.71875 \r\nQ 48 40.375 41.703125 38.8125 \r\nQ 48.828125 37.15625 52.796875 32.3125 \r\nQ 56.78125 27.484375 56.78125 20.515625 \r\nQ 56.78125 9.90625 50.3125 4.234375 \r\nQ 43.84375 -1.421875 31.78125 -1.421875 \r\nQ 19.734375 -1.421875 13.25 4.234375 \r\nQ 6.78125 9.90625 6.78125 20.515625 \r\nQ 6.78125 27.484375 10.78125 32.3125 \r\nQ 14.796875 37.15625 21.921875 38.8125 \r\nz\r\nM 18.3125 54.390625 \r\nQ 18.3125 48.734375 21.84375 45.5625 \r\nQ 25.390625 42.390625 31.78125 42.390625 \r\nQ 38.140625 42.390625 41.71875 45.5625 \r\nQ 45.3125 48.734375 45.3125 54.390625 \r\nQ 45.3125 60.0625 41.71875 63.234375 \r\nQ 38.140625 66.40625 31.78125 66.40625 \r\nQ 25.390625 66.40625 21.84375 63.234375 \r\nQ 18.3125 60.0625 18.3125 54.390625 \r\nz\r\n\" id=\"DejaVuSans-56\"/>\r\n       </defs>\r\n       <use xlink:href=\"#DejaVuSans-56\"/>\r\n       <use x=\"63.623047\" xlink:href=\"#DejaVuSans-48\"/>\r\n      </g>\r\n     </g>\r\n    </g>\r\n    <g id=\"xtick_6\">\r\n     <g id=\"line2d_6\">\r\n      <g>\r\n       <use style=\"stroke:#000000;stroke-width:0.8;\" x=\"285.948904\" xlink:href=\"#md8f3380b38\" y=\"239.758125\"/>\r\n      </g>\r\n     </g>\r\n     <g id=\"text_6\">\r\n      <!-- 100 -->\r\n      <g transform=\"translate(276.405154 254.356562)scale(0.1 -0.1)\">\r\n       <defs>\r\n        <path d=\"M 12.40625 8.296875 \r\nL 28.515625 8.296875 \r\nL 28.515625 63.921875 \r\nL 10.984375 60.40625 \r\nL 10.984375 69.390625 \r\nL 28.421875 72.90625 \r\nL 38.28125 72.90625 \r\nL 38.28125 8.296875 \r\nL 54.390625 8.296875 \r\nL 54.390625 0 \r\nL 12.40625 0 \r\nz\r\n\" id=\"DejaVuSans-49\"/>\r\n       </defs>\r\n       <use xlink:href=\"#DejaVuSans-49\"/>\r\n       <use x=\"63.623047\" xlink:href=\"#DejaVuSans-48\"/>\r\n       <use x=\"127.246094\" xlink:href=\"#DejaVuSans-48\"/>\r\n      </g>\r\n     </g>\r\n    </g>\r\n    <g id=\"xtick_7\">\r\n     <g id=\"line2d_7\">\r\n      <g>\r\n       <use style=\"stroke:#000000;stroke-width:0.8;\" x=\"329.429424\" xlink:href=\"#md8f3380b38\" y=\"239.758125\"/>\r\n      </g>\r\n     </g>\r\n     <g id=\"text_7\">\r\n      <!-- 120 -->\r\n      <g transform=\"translate(319.885674 254.356562)scale(0.1 -0.1)\">\r\n       <use xlink:href=\"#DejaVuSans-49\"/>\r\n       <use x=\"63.623047\" xlink:href=\"#DejaVuSans-50\"/>\r\n       <use x=\"127.246094\" xlink:href=\"#DejaVuSans-48\"/>\r\n      </g>\r\n     </g>\r\n    </g>\r\n    <g id=\"xtick_8\">\r\n     <g id=\"line2d_8\">\r\n      <g>\r\n       <use style=\"stroke:#000000;stroke-width:0.8;\" x=\"372.909943\" xlink:href=\"#md8f3380b38\" y=\"239.758125\"/>\r\n      </g>\r\n     </g>\r\n     <g id=\"text_8\">\r\n      <!-- 140 -->\r\n      <g transform=\"translate(363.366193 254.356562)scale(0.1 -0.1)\">\r\n       <use xlink:href=\"#DejaVuSans-49\"/>\r\n       <use x=\"63.623047\" xlink:href=\"#DejaVuSans-52\"/>\r\n       <use x=\"127.246094\" xlink:href=\"#DejaVuSans-48\"/>\r\n      </g>\r\n     </g>\r\n    </g>\r\n    <g id=\"text_9\">\r\n     <!-- Diameter -->\r\n     <g transform=\"translate(197.385938 268.034687)scale(0.1 -0.1)\">\r\n      <defs>\r\n       <path d=\"M 19.671875 64.796875 \r\nL 19.671875 8.109375 \r\nL 31.59375 8.109375 \r\nQ 46.6875 8.109375 53.6875 14.9375 \r\nQ 60.6875 21.78125 60.6875 36.53125 \r\nQ 60.6875 51.171875 53.6875 57.984375 \r\nQ 46.6875 64.796875 31.59375 64.796875 \r\nz\r\nM 9.8125 72.90625 \r\nL 30.078125 72.90625 \r\nQ 51.265625 72.90625 61.171875 64.09375 \r\nQ 71.09375 55.28125 71.09375 36.53125 \r\nQ 71.09375 17.671875 61.125 8.828125 \r\nQ 51.171875 0 30.078125 0 \r\nL 9.8125 0 \r\nz\r\n\" id=\"DejaVuSans-68\"/>\r\n       <path d=\"M 9.421875 54.6875 \r\nL 18.40625 54.6875 \r\nL 18.40625 0 \r\nL 9.421875 0 \r\nz\r\nM 9.421875 75.984375 \r\nL 18.40625 75.984375 \r\nL 18.40625 64.59375 \r\nL 9.421875 64.59375 \r\nz\r\n\" id=\"DejaVuSans-105\"/>\r\n       <path d=\"M 34.28125 27.484375 \r\nQ 23.390625 27.484375 19.1875 25 \r\nQ 14.984375 22.515625 14.984375 16.5 \r\nQ 14.984375 11.71875 18.140625 8.90625 \r\nQ 21.296875 6.109375 26.703125 6.109375 \r\nQ 34.1875 6.109375 38.703125 11.40625 \r\nQ 43.21875 16.703125 43.21875 25.484375 \r\nL 43.21875 27.484375 \r\nz\r\nM 52.203125 31.203125 \r\nL 52.203125 0 \r\nL 43.21875 0 \r\nL 43.21875 8.296875 \r\nQ 40.140625 3.328125 35.546875 0.953125 \r\nQ 30.953125 -1.421875 24.3125 -1.421875 \r\nQ 15.921875 -1.421875 10.953125 3.296875 \r\nQ 6 8.015625 6 15.921875 \r\nQ 6 25.140625 12.171875 29.828125 \r\nQ 18.359375 34.515625 30.609375 34.515625 \r\nL 43.21875 34.515625 \r\nL 43.21875 35.40625 \r\nQ 43.21875 41.609375 39.140625 45 \r\nQ 35.0625 48.390625 27.6875 48.390625 \r\nQ 23 48.390625 18.546875 47.265625 \r\nQ 14.109375 46.140625 10.015625 43.890625 \r\nL 10.015625 52.203125 \r\nQ 14.9375 54.109375 19.578125 55.046875 \r\nQ 24.21875 56 28.609375 56 \r\nQ 40.484375 56 46.34375 49.84375 \r\nQ 52.203125 43.703125 52.203125 31.203125 \r\nz\r\n\" id=\"DejaVuSans-97\"/>\r\n       <path d=\"M 52 44.1875 \r\nQ 55.375 50.25 60.0625 53.125 \r\nQ 64.75 56 71.09375 56 \r\nQ 79.640625 56 84.28125 50.015625 \r\nQ 88.921875 44.046875 88.921875 33.015625 \r\nL 88.921875 0 \r\nL 79.890625 0 \r\nL 79.890625 32.71875 \r\nQ 79.890625 40.578125 77.09375 44.375 \r\nQ 74.3125 48.1875 68.609375 48.1875 \r\nQ 61.625 48.1875 57.5625 43.546875 \r\nQ 53.515625 38.921875 53.515625 30.90625 \r\nL 53.515625 0 \r\nL 44.484375 0 \r\nL 44.484375 32.71875 \r\nQ 44.484375 40.625 41.703125 44.40625 \r\nQ 38.921875 48.1875 33.109375 48.1875 \r\nQ 26.21875 48.1875 22.15625 43.53125 \r\nQ 18.109375 38.875 18.109375 30.90625 \r\nL 18.109375 0 \r\nL 9.078125 0 \r\nL 9.078125 54.6875 \r\nL 18.109375 54.6875 \r\nL 18.109375 46.1875 \r\nQ 21.1875 51.21875 25.484375 53.609375 \r\nQ 29.78125 56 35.6875 56 \r\nQ 41.65625 56 45.828125 52.96875 \r\nQ 50 49.953125 52 44.1875 \r\nz\r\n\" id=\"DejaVuSans-109\"/>\r\n       <path d=\"M 56.203125 29.59375 \r\nL 56.203125 25.203125 \r\nL 14.890625 25.203125 \r\nQ 15.484375 15.921875 20.484375 11.0625 \r\nQ 25.484375 6.203125 34.421875 6.203125 \r\nQ 39.59375 6.203125 44.453125 7.46875 \r\nQ 49.3125 8.734375 54.109375 11.28125 \r\nL 54.109375 2.78125 \r\nQ 49.265625 0.734375 44.1875 -0.34375 \r\nQ 39.109375 -1.421875 33.890625 -1.421875 \r\nQ 20.796875 -1.421875 13.15625 6.1875 \r\nQ 5.515625 13.8125 5.515625 26.8125 \r\nQ 5.515625 40.234375 12.765625 48.109375 \r\nQ 20.015625 56 32.328125 56 \r\nQ 43.359375 56 49.78125 48.890625 \r\nQ 56.203125 41.796875 56.203125 29.59375 \r\nz\r\nM 47.21875 32.234375 \r\nQ 47.125 39.59375 43.09375 43.984375 \r\nQ 39.0625 48.390625 32.421875 48.390625 \r\nQ 24.90625 48.390625 20.390625 44.140625 \r\nQ 15.875 39.890625 15.1875 32.171875 \r\nz\r\n\" id=\"DejaVuSans-101\"/>\r\n       <path d=\"M 18.3125 70.21875 \r\nL 18.3125 54.6875 \r\nL 36.8125 54.6875 \r\nL 36.8125 47.703125 \r\nL 18.3125 47.703125 \r\nL 18.3125 18.015625 \r\nQ 18.3125 11.328125 20.140625 9.421875 \r\nQ 21.96875 7.515625 27.59375 7.515625 \r\nL 36.8125 7.515625 \r\nL 36.8125 0 \r\nL 27.59375 0 \r\nQ 17.1875 0 13.234375 3.875 \r\nQ 9.28125 7.765625 9.28125 18.015625 \r\nL 9.28125 47.703125 \r\nL 2.6875 47.703125 \r\nL 2.6875 54.6875 \r\nL 9.28125 54.6875 \r\nL 9.28125 70.21875 \r\nz\r\n\" id=\"DejaVuSans-116\"/>\r\n       <path d=\"M 41.109375 46.296875 \r\nQ 39.59375 47.171875 37.8125 47.578125 \r\nQ 36.03125 48 33.890625 48 \r\nQ 26.265625 48 22.1875 43.046875 \r\nQ 18.109375 38.09375 18.109375 28.8125 \r\nL 18.109375 0 \r\nL 9.078125 0 \r\nL 9.078125 54.6875 \r\nL 18.109375 54.6875 \r\nL 18.109375 46.1875 \r\nQ 20.953125 51.171875 25.484375 53.578125 \r\nQ 30.03125 56 36.53125 56 \r\nQ 37.453125 56 38.578125 55.875 \r\nQ 39.703125 55.765625 41.0625 55.515625 \r\nz\r\n\" id=\"DejaVuSans-114\"/>\r\n      </defs>\r\n      <use xlink:href=\"#DejaVuSans-68\"/>\r\n      <use x=\"77.001953\" xlink:href=\"#DejaVuSans-105\"/>\r\n      <use x=\"104.785156\" xlink:href=\"#DejaVuSans-97\"/>\r\n      <use x=\"166.064453\" xlink:href=\"#DejaVuSans-109\"/>\r\n      <use x=\"263.476562\" xlink:href=\"#DejaVuSans-101\"/>\r\n      <use x=\"325\" xlink:href=\"#DejaVuSans-116\"/>\r\n      <use x=\"364.208984\" xlink:href=\"#DejaVuSans-101\"/>\r\n      <use x=\"425.732422\" xlink:href=\"#DejaVuSans-114\"/>\r\n     </g>\r\n    </g>\r\n   </g>\r\n   <g id=\"matplotlib.axis_2\">\r\n    <g id=\"ytick_1\">\r\n     <g id=\"line2d_9\">\r\n      <defs>\r\n       <path d=\"M 0 0 \r\nL -3.5 0 \r\n\" id=\"md4c60cb44e\" style=\"stroke:#000000;stroke-width:0.8;\"/>\r\n      </defs>\r\n      <g>\r\n       <use style=\"stroke:#000000;stroke-width:0.8;\" x=\"53.328125\" xlink:href=\"#md4c60cb44e\" y=\"239.758125\"/>\r\n      </g>\r\n     </g>\r\n     <g id=\"text_10\">\r\n      <!-- 0 -->\r\n      <g transform=\"translate(39.965625 243.557344)scale(0.1 -0.1)\">\r\n       <use xlink:href=\"#DejaVuSans-48\"/>\r\n      </g>\r\n     </g>\r\n    </g>\r\n    <g id=\"ytick_2\">\r\n     <g id=\"line2d_10\">\r\n      <g>\r\n       <use style=\"stroke:#000000;stroke-width:0.8;\" x=\"53.328125\" xlink:href=\"#md4c60cb44e\" y=\"210.089685\"/>\r\n      </g>\r\n     </g>\r\n     <g id=\"text_11\">\r\n      <!-- 250 -->\r\n      <g transform=\"translate(27.240625 213.888903)scale(0.1 -0.1)\">\r\n       <defs>\r\n        <path d=\"M 10.796875 72.90625 \r\nL 49.515625 72.90625 \r\nL 49.515625 64.59375 \r\nL 19.828125 64.59375 \r\nL 19.828125 46.734375 \r\nQ 21.96875 47.46875 24.109375 47.828125 \r\nQ 26.265625 48.1875 28.421875 48.1875 \r\nQ 40.625 48.1875 47.75 41.5 \r\nQ 54.890625 34.8125 54.890625 23.390625 \r\nQ 54.890625 11.625 47.5625 5.09375 \r\nQ 40.234375 -1.421875 26.90625 -1.421875 \r\nQ 22.3125 -1.421875 17.546875 -0.640625 \r\nQ 12.796875 0.140625 7.71875 1.703125 \r\nL 7.71875 11.625 \r\nQ 12.109375 9.234375 16.796875 8.0625 \r\nQ 21.484375 6.890625 26.703125 6.890625 \r\nQ 35.15625 6.890625 40.078125 11.328125 \r\nQ 45.015625 15.765625 45.015625 23.390625 \r\nQ 45.015625 31 40.078125 35.4375 \r\nQ 35.15625 39.890625 26.703125 39.890625 \r\nQ 22.75 39.890625 18.8125 39.015625 \r\nQ 14.890625 38.140625 10.796875 36.28125 \r\nz\r\n\" id=\"DejaVuSans-53\"/>\r\n       </defs>\r\n       <use xlink:href=\"#DejaVuSans-50\"/>\r\n       <use x=\"63.623047\" xlink:href=\"#DejaVuSans-53\"/>\r\n       <use x=\"127.246094\" xlink:href=\"#DejaVuSans-48\"/>\r\n      </g>\r\n     </g>\r\n    </g>\r\n    <g id=\"ytick_3\">\r\n     <g id=\"line2d_11\">\r\n      <g>\r\n       <use style=\"stroke:#000000;stroke-width:0.8;\" x=\"53.328125\" xlink:href=\"#md4c60cb44e\" y=\"180.421244\"/>\r\n      </g>\r\n     </g>\r\n     <g id=\"text_12\">\r\n      <!-- 500 -->\r\n      <g transform=\"translate(27.240625 184.220463)scale(0.1 -0.1)\">\r\n       <use xlink:href=\"#DejaVuSans-53\"/>\r\n       <use x=\"63.623047\" xlink:href=\"#DejaVuSans-48\"/>\r\n       <use x=\"127.246094\" xlink:href=\"#DejaVuSans-48\"/>\r\n      </g>\r\n     </g>\r\n    </g>\r\n    <g id=\"ytick_4\">\r\n     <g id=\"line2d_12\">\r\n      <g>\r\n       <use style=\"stroke:#000000;stroke-width:0.8;\" x=\"53.328125\" xlink:href=\"#md4c60cb44e\" y=\"150.752804\"/>\r\n      </g>\r\n     </g>\r\n     <g id=\"text_13\">\r\n      <!-- 750 -->\r\n      <g transform=\"translate(27.240625 154.552022)scale(0.1 -0.1)\">\r\n       <defs>\r\n        <path d=\"M 8.203125 72.90625 \r\nL 55.078125 72.90625 \r\nL 55.078125 68.703125 \r\nL 28.609375 0 \r\nL 18.3125 0 \r\nL 43.21875 64.59375 \r\nL 8.203125 64.59375 \r\nz\r\n\" id=\"DejaVuSans-55\"/>\r\n       </defs>\r\n       <use xlink:href=\"#DejaVuSans-55\"/>\r\n       <use x=\"63.623047\" xlink:href=\"#DejaVuSans-53\"/>\r\n       <use x=\"127.246094\" xlink:href=\"#DejaVuSans-48\"/>\r\n      </g>\r\n     </g>\r\n    </g>\r\n    <g id=\"ytick_5\">\r\n     <g id=\"line2d_13\">\r\n      <g>\r\n       <use style=\"stroke:#000000;stroke-width:0.8;\" x=\"53.328125\" xlink:href=\"#md4c60cb44e\" y=\"121.084363\"/>\r\n      </g>\r\n     </g>\r\n     <g id=\"text_14\">\r\n      <!-- 1000 -->\r\n      <g transform=\"translate(20.878125 124.883582)scale(0.1 -0.1)\">\r\n       <use xlink:href=\"#DejaVuSans-49\"/>\r\n       <use x=\"63.623047\" xlink:href=\"#DejaVuSans-48\"/>\r\n       <use x=\"127.246094\" xlink:href=\"#DejaVuSans-48\"/>\r\n       <use x=\"190.869141\" xlink:href=\"#DejaVuSans-48\"/>\r\n      </g>\r\n     </g>\r\n    </g>\r\n    <g id=\"ytick_6\">\r\n     <g id=\"line2d_14\">\r\n      <g>\r\n       <use style=\"stroke:#000000;stroke-width:0.8;\" x=\"53.328125\" xlink:href=\"#md4c60cb44e\" y=\"91.415923\"/>\r\n      </g>\r\n     </g>\r\n     <g id=\"text_15\">\r\n      <!-- 1250 -->\r\n      <g transform=\"translate(20.878125 95.215142)scale(0.1 -0.1)\">\r\n       <use xlink:href=\"#DejaVuSans-49\"/>\r\n       <use x=\"63.623047\" xlink:href=\"#DejaVuSans-50\"/>\r\n       <use x=\"127.246094\" xlink:href=\"#DejaVuSans-53\"/>\r\n       <use x=\"190.869141\" xlink:href=\"#DejaVuSans-48\"/>\r\n      </g>\r\n     </g>\r\n    </g>\r\n    <g id=\"ytick_7\">\r\n     <g id=\"line2d_15\">\r\n      <g>\r\n       <use style=\"stroke:#000000;stroke-width:0.8;\" x=\"53.328125\" xlink:href=\"#md4c60cb44e\" y=\"61.747482\"/>\r\n      </g>\r\n     </g>\r\n     <g id=\"text_16\">\r\n      <!-- 1500 -->\r\n      <g transform=\"translate(20.878125 65.546701)scale(0.1 -0.1)\">\r\n       <use xlink:href=\"#DejaVuSans-49\"/>\r\n       <use x=\"63.623047\" xlink:href=\"#DejaVuSans-53\"/>\r\n       <use x=\"127.246094\" xlink:href=\"#DejaVuSans-48\"/>\r\n       <use x=\"190.869141\" xlink:href=\"#DejaVuSans-48\"/>\r\n      </g>\r\n     </g>\r\n    </g>\r\n    <g id=\"ytick_8\">\r\n     <g id=\"line2d_16\">\r\n      <g>\r\n       <use style=\"stroke:#000000;stroke-width:0.8;\" x=\"53.328125\" xlink:href=\"#md4c60cb44e\" y=\"32.079042\"/>\r\n      </g>\r\n     </g>\r\n     <g id=\"text_17\">\r\n      <!-- 1750 -->\r\n      <g transform=\"translate(20.878125 35.878261)scale(0.1 -0.1)\">\r\n       <use xlink:href=\"#DejaVuSans-49\"/>\r\n       <use x=\"63.623047\" xlink:href=\"#DejaVuSans-55\"/>\r\n       <use x=\"127.246094\" xlink:href=\"#DejaVuSans-53\"/>\r\n       <use x=\"190.869141\" xlink:href=\"#DejaVuSans-48\"/>\r\n      </g>\r\n     </g>\r\n    </g>\r\n    <g id=\"text_18\">\r\n     <!-- Count -->\r\n     <g transform=\"translate(14.798438 145.886562)rotate(-90)scale(0.1 -0.1)\">\r\n      <defs>\r\n       <path d=\"M 64.40625 67.28125 \r\nL 64.40625 56.890625 \r\nQ 59.421875 61.53125 53.78125 63.8125 \r\nQ 48.140625 66.109375 41.796875 66.109375 \r\nQ 29.296875 66.109375 22.65625 58.46875 \r\nQ 16.015625 50.828125 16.015625 36.375 \r\nQ 16.015625 21.96875 22.65625 14.328125 \r\nQ 29.296875 6.6875 41.796875 6.6875 \r\nQ 48.140625 6.6875 53.78125 8.984375 \r\nQ 59.421875 11.28125 64.40625 15.921875 \r\nL 64.40625 5.609375 \r\nQ 59.234375 2.09375 53.4375 0.328125 \r\nQ 47.65625 -1.421875 41.21875 -1.421875 \r\nQ 24.65625 -1.421875 15.125 8.703125 \r\nQ 5.609375 18.84375 5.609375 36.375 \r\nQ 5.609375 53.953125 15.125 64.078125 \r\nQ 24.65625 74.21875 41.21875 74.21875 \r\nQ 47.75 74.21875 53.53125 72.484375 \r\nQ 59.328125 70.75 64.40625 67.28125 \r\nz\r\n\" id=\"DejaVuSans-67\"/>\r\n       <path d=\"M 30.609375 48.390625 \r\nQ 23.390625 48.390625 19.1875 42.75 \r\nQ 14.984375 37.109375 14.984375 27.296875 \r\nQ 14.984375 17.484375 19.15625 11.84375 \r\nQ 23.34375 6.203125 30.609375 6.203125 \r\nQ 37.796875 6.203125 41.984375 11.859375 \r\nQ 46.1875 17.53125 46.1875 27.296875 \r\nQ 46.1875 37.015625 41.984375 42.703125 \r\nQ 37.796875 48.390625 30.609375 48.390625 \r\nz\r\nM 30.609375 56 \r\nQ 42.328125 56 49.015625 48.375 \r\nQ 55.71875 40.765625 55.71875 27.296875 \r\nQ 55.71875 13.875 49.015625 6.21875 \r\nQ 42.328125 -1.421875 30.609375 -1.421875 \r\nQ 18.84375 -1.421875 12.171875 6.21875 \r\nQ 5.515625 13.875 5.515625 27.296875 \r\nQ 5.515625 40.765625 12.171875 48.375 \r\nQ 18.84375 56 30.609375 56 \r\nz\r\n\" id=\"DejaVuSans-111\"/>\r\n       <path d=\"M 8.5 21.578125 \r\nL 8.5 54.6875 \r\nL 17.484375 54.6875 \r\nL 17.484375 21.921875 \r\nQ 17.484375 14.15625 20.5 10.265625 \r\nQ 23.53125 6.390625 29.59375 6.390625 \r\nQ 36.859375 6.390625 41.078125 11.03125 \r\nQ 45.3125 15.671875 45.3125 23.6875 \r\nL 45.3125 54.6875 \r\nL 54.296875 54.6875 \r\nL 54.296875 0 \r\nL 45.3125 0 \r\nL 45.3125 8.40625 \r\nQ 42.046875 3.421875 37.71875 1 \r\nQ 33.40625 -1.421875 27.6875 -1.421875 \r\nQ 18.265625 -1.421875 13.375 4.4375 \r\nQ 8.5 10.296875 8.5 21.578125 \r\nz\r\nM 31.109375 56 \r\nz\r\n\" id=\"DejaVuSans-117\"/>\r\n       <path d=\"M 54.890625 33.015625 \r\nL 54.890625 0 \r\nL 45.90625 0 \r\nL 45.90625 32.71875 \r\nQ 45.90625 40.484375 42.875 44.328125 \r\nQ 39.84375 48.1875 33.796875 48.1875 \r\nQ 26.515625 48.1875 22.3125 43.546875 \r\nQ 18.109375 38.921875 18.109375 30.90625 \r\nL 18.109375 0 \r\nL 9.078125 0 \r\nL 9.078125 54.6875 \r\nL 18.109375 54.6875 \r\nL 18.109375 46.1875 \r\nQ 21.34375 51.125 25.703125 53.5625 \r\nQ 30.078125 56 35.796875 56 \r\nQ 45.21875 56 50.046875 50.171875 \r\nQ 54.890625 44.34375 54.890625 33.015625 \r\nz\r\n\" id=\"DejaVuSans-110\"/>\r\n      </defs>\r\n      <use xlink:href=\"#DejaVuSans-67\"/>\r\n      <use x=\"69.824219\" xlink:href=\"#DejaVuSans-111\"/>\r\n      <use x=\"131.005859\" xlink:href=\"#DejaVuSans-117\"/>\r\n      <use x=\"194.384766\" xlink:href=\"#DejaVuSans-110\"/>\r\n      <use x=\"257.763672\" xlink:href=\"#DejaVuSans-116\"/>\r\n     </g>\r\n    </g>\r\n   </g>\r\n   <g id=\"patch_103\">\r\n    <path d=\"M 53.328125 239.758125 \r\nL 53.328125 22.318125 \r\n\" style=\"fill:none;stroke:#000000;stroke-linecap:square;stroke-linejoin:miter;stroke-width:0.8;\"/>\r\n   </g>\r\n   <g id=\"patch_104\">\r\n    <path d=\"M 388.128125 239.758125 \r\nL 388.128125 22.318125 \r\n\" style=\"fill:none;stroke:#000000;stroke-linecap:square;stroke-linejoin:miter;stroke-width:0.8;\"/>\r\n   </g>\r\n   <g id=\"patch_105\">\r\n    <path d=\"M 53.328125 239.758125 \r\nL 388.128125 239.758125 \r\n\" style=\"fill:none;stroke:#000000;stroke-linecap:square;stroke-linejoin:miter;stroke-width:0.8;\"/>\r\n   </g>\r\n   <g id=\"patch_106\">\r\n    <path d=\"M 53.328125 22.318125 \r\nL 388.128125 22.318125 \r\n\" style=\"fill:none;stroke:#000000;stroke-linecap:square;stroke-linejoin:miter;stroke-width:0.8;\"/>\r\n   </g>\r\n   <g id=\"text_19\">\r\n    <!-- Stump Diameter -->\r\n    <g transform=\"translate(171.193438 16.318125)scale(0.12 -0.12)\">\r\n     <defs>\r\n      <path d=\"M 53.515625 70.515625 \r\nL 53.515625 60.890625 \r\nQ 47.90625 63.578125 42.921875 64.890625 \r\nQ 37.9375 66.21875 33.296875 66.21875 \r\nQ 25.25 66.21875 20.875 63.09375 \r\nQ 16.5 59.96875 16.5 54.203125 \r\nQ 16.5 49.359375 19.40625 46.890625 \r\nQ 22.3125 44.4375 30.421875 42.921875 \r\nL 36.375 41.703125 \r\nQ 47.40625 39.59375 52.65625 34.296875 \r\nQ 57.90625 29 57.90625 20.125 \r\nQ 57.90625 9.515625 50.796875 4.046875 \r\nQ 43.703125 -1.421875 29.984375 -1.421875 \r\nQ 24.8125 -1.421875 18.96875 -0.25 \r\nQ 13.140625 0.921875 6.890625 3.21875 \r\nL 6.890625 13.375 \r\nQ 12.890625 10.015625 18.65625 8.296875 \r\nQ 24.421875 6.59375 29.984375 6.59375 \r\nQ 38.421875 6.59375 43.015625 9.90625 \r\nQ 47.609375 13.234375 47.609375 19.390625 \r\nQ 47.609375 24.75 44.3125 27.78125 \r\nQ 41.015625 30.8125 33.5 32.328125 \r\nL 27.484375 33.5 \r\nQ 16.453125 35.6875 11.515625 40.375 \r\nQ 6.59375 45.0625 6.59375 53.421875 \r\nQ 6.59375 63.09375 13.40625 68.65625 \r\nQ 20.21875 74.21875 32.171875 74.21875 \r\nQ 37.3125 74.21875 42.625 73.28125 \r\nQ 47.953125 72.359375 53.515625 70.515625 \r\nz\r\n\" id=\"DejaVuSans-83\"/>\r\n      <path d=\"M 18.109375 8.203125 \r\nL 18.109375 -20.796875 \r\nL 9.078125 -20.796875 \r\nL 9.078125 54.6875 \r\nL 18.109375 54.6875 \r\nL 18.109375 46.390625 \r\nQ 20.953125 51.265625 25.265625 53.625 \r\nQ 29.59375 56 35.59375 56 \r\nQ 45.5625 56 51.78125 48.09375 \r\nQ 58.015625 40.1875 58.015625 27.296875 \r\nQ 58.015625 14.40625 51.78125 6.484375 \r\nQ 45.5625 -1.421875 35.59375 -1.421875 \r\nQ 29.59375 -1.421875 25.265625 0.953125 \r\nQ 20.953125 3.328125 18.109375 8.203125 \r\nz\r\nM 48.6875 27.296875 \r\nQ 48.6875 37.203125 44.609375 42.84375 \r\nQ 40.53125 48.484375 33.40625 48.484375 \r\nQ 26.265625 48.484375 22.1875 42.84375 \r\nQ 18.109375 37.203125 18.109375 27.296875 \r\nQ 18.109375 17.390625 22.1875 11.75 \r\nQ 26.265625 6.109375 33.40625 6.109375 \r\nQ 40.53125 6.109375 44.609375 11.75 \r\nQ 48.6875 17.390625 48.6875 27.296875 \r\nz\r\n\" id=\"DejaVuSans-112\"/>\r\n      <path id=\"DejaVuSans-32\"/>\r\n     </defs>\r\n     <use xlink:href=\"#DejaVuSans-83\"/>\r\n     <use x=\"63.476562\" xlink:href=\"#DejaVuSans-116\"/>\r\n     <use x=\"102.685547\" xlink:href=\"#DejaVuSans-117\"/>\r\n     <use x=\"166.064453\" xlink:href=\"#DejaVuSans-109\"/>\r\n     <use x=\"263.476562\" xlink:href=\"#DejaVuSans-112\"/>\r\n     <use x=\"326.953125\" xlink:href=\"#DejaVuSans-32\"/>\r\n     <use x=\"358.740234\" xlink:href=\"#DejaVuSans-68\"/>\r\n     <use x=\"435.742188\" xlink:href=\"#DejaVuSans-105\"/>\r\n     <use x=\"463.525391\" xlink:href=\"#DejaVuSans-97\"/>\r\n     <use x=\"524.804688\" xlink:href=\"#DejaVuSans-109\"/>\r\n     <use x=\"622.216797\" xlink:href=\"#DejaVuSans-101\"/>\r\n     <use x=\"683.740234\" xlink:href=\"#DejaVuSans-116\"/>\r\n     <use x=\"722.949219\" xlink:href=\"#DejaVuSans-101\"/>\r\n     <use x=\"784.472656\" xlink:href=\"#DejaVuSans-114\"/>\r\n    </g>\r\n   </g>\r\n  </g>\r\n </g>\r\n <defs>\r\n  <clipPath id=\"p0aaa38ddb2\">\r\n   <rect height=\"217.44\" width=\"334.8\" x=\"53.328125\" y=\"22.318125\"/>\r\n  </clipPath>\r\n </defs>\r\n</svg>\r\n",
      "image/png": "[encoded data removed]"
     },
     "metadata": {
      "needs_background": "light"
     }
    },
    {
     "output_type": "execute_result",
     "data": {
      "text/plain": [
       "(array([1095,  363, 1745,  940,  754, 1272,  530, 1242,  717,  609, 1312,\n",
       "         559, 1094,  410,  572,  775,  330,  803,  273,  272,  476,  339,\n",
       "         386,  148,  136,  367,  100,  197,  141,   63,  114,   43,  106,\n",
       "          29,   39,   68,   24,   48,   16,   15,   12,   12,   16,    5,\n",
       "           4,    8,    8,    7,    0,    2,    7,    1,    2,    0,    3,\n",
       "           8,    3,    4,    1,    0,    6,    1,    2,    2,    2,    1,\n",
       "           0,    0,    1,    0,    2,    2,    0,    0,    1,    0,    1,\n",
       "           1,    0,    0,    0,    0,    1,    0,    1,    1,    0,    0,\n",
       "           0,    1,    0,    0,    0,    1,    0,    1,    0,    0,    0,\n",
       "           1], dtype=int64),\n",
       " array([  0. ,   1.4,   2.8,   4.2,   5.6,   7. ,   8.4,   9.8,  11.2,\n",
       "         12.6,  14. ,  15.4,  16.8,  18.2,  19.6,  21. ,  22.4,  23.8,\n",
       "         25.2,  26.6,  28. ,  29.4,  30.8,  32.2,  33.6,  35. ,  36.4,\n",
       "         37.8,  39.2,  40.6,  42. ,  43.4,  44.8,  46.2,  47.6,  49. ,\n",
       "         50.4,  51.8,  53.2,  54.6,  56. ,  57.4,  58.8,  60.2,  61.6,\n",
       "         63. ,  64.4,  65.8,  67.2,  68.6,  70. ,  71.4,  72.8,  74.2,\n",
       "         75.6,  77. ,  78.4,  79.8,  81.2,  82.6,  84. ,  85.4,  86.8,\n",
       "         88.2,  89.6,  91. ,  92.4,  93.8,  95.2,  96.6,  98. ,  99.4,\n",
       "        100.8, 102.2, 103.6, 105. , 106.4, 107.8, 109.2, 110.6, 112. ,\n",
       "        113.4, 114.8, 116.2, 117.6, 119. , 120.4, 121.8, 123.2, 124.6,\n",
       "        126. , 127.4, 128.8, 130.2, 131.6, 133. , 134.4, 135.8, 137.2,\n",
       "        138.6, 140. ]))"
      ]
     },
     "metadata": {},
     "execution_count": 103
    }
   ],
   "source": [
    "# In the Codeacamedy course, we were given the stump_diam_category column. We don't have it, so we need to create it.\n",
    "#\n",
    "# First, find the data spread of stump_diam so that we can create an ordinal category from it\n",
    "\n",
    "print(sorted(nyc_trees.stump_diam.unique()))\n",
    "plt.hist(nyc_trees.stump_diam, bins=100, edgecolor='black')\n",
    "\n",
    "plt.title(\"Stump Diameter\")\n",
    "plt.xlabel(\"Diameter\")\n",
    "plt.ylabel(\"Count\")\n",
    "\n",
    "plt.show()\n",
    "\n",
    "np.histogram(nyc_trees.stump_diam, bins=100)\n",
    "\n",
    "# Add an ordinal category for stump_diam called stump_diam_category\n"
   ]
  },
  {
   "cell_type": "code",
   "execution_count": 104,
   "metadata": {},
   "outputs": [
    {
     "output_type": "execute_result",
     "data": {
      "text/plain": [
       "   tree_id  stump_diam status health spc_common                     nta_name  \\\n",
       "0   211205          16  Stump    NaN        NaN                     Steinway   \n",
       "1   203597          15  Stump    NaN        NaN                     Steinway   \n",
       "2   179766          30  Stump    NaN        NaN                     Flatbush   \n",
       "3   180619          10  Stump    NaN        NaN                 Forest Hills   \n",
       "4   208828          15  Stump    NaN        NaN  Lenox Hill-Roosevelt Island   \n",
       "\n",
       "      stump_diam_category  \n",
       "0  Medium-Large (10-18in)  \n",
       "1  Medium-Large (10-18in)  \n",
       "2      Very large (>24in)  \n",
       "3         Medium (3-10in)  \n",
       "4  Medium-Large (10-18in)  "
      ],
      "text/html": "<div>\n<style scoped>\n    .dataframe tbody tr th:only-of-type {\n        vertical-align: middle;\n    }\n\n    .dataframe tbody tr th {\n        vertical-align: top;\n    }\n\n    .dataframe thead th {\n        text-align: right;\n    }\n</style>\n<table border=\"1\" class=\"dataframe\">\n  <thead>\n    <tr style=\"text-align: right;\">\n      <th></th>\n      <th>tree_id</th>\n      <th>stump_diam</th>\n      <th>status</th>\n      <th>health</th>\n      <th>spc_common</th>\n      <th>nta_name</th>\n      <th>stump_diam_category</th>\n    </tr>\n  </thead>\n  <tbody>\n    <tr>\n      <th>0</th>\n      <td>211205</td>\n      <td>16</td>\n      <td>Stump</td>\n      <td>NaN</td>\n      <td>NaN</td>\n      <td>Steinway</td>\n      <td>Medium-Large (10-18in)</td>\n    </tr>\n    <tr>\n      <th>1</th>\n      <td>203597</td>\n      <td>15</td>\n      <td>Stump</td>\n      <td>NaN</td>\n      <td>NaN</td>\n      <td>Steinway</td>\n      <td>Medium-Large (10-18in)</td>\n    </tr>\n    <tr>\n      <th>2</th>\n      <td>179766</td>\n      <td>30</td>\n      <td>Stump</td>\n      <td>NaN</td>\n      <td>NaN</td>\n      <td>Flatbush</td>\n      <td>Very large (&gt;24in)</td>\n    </tr>\n    <tr>\n      <th>3</th>\n      <td>180619</td>\n      <td>10</td>\n      <td>Stump</td>\n      <td>NaN</td>\n      <td>NaN</td>\n      <td>Forest Hills</td>\n      <td>Medium (3-10in)</td>\n    </tr>\n    <tr>\n      <th>4</th>\n      <td>208828</td>\n      <td>15</td>\n      <td>Stump</td>\n      <td>NaN</td>\n      <td>NaN</td>\n      <td>Lenox Hill-Roosevelt Island</td>\n      <td>Medium-Large (10-18in)</td>\n    </tr>\n  </tbody>\n</table>\n</div>"
     },
     "metadata": {},
     "execution_count": 104
    }
   ],
   "source": [
    "# Now create the ordinal category\n",
    "\n",
    "size_labels_ordered = ['Small (0-3in)', 'Medium (3-10in)', 'Medium-Large (10-18in)', 'Large (18-24in)','Very large (>24in)']\n",
    "\n",
    "stump_diam_category = pd.cut(nyc_trees.stump_diam, [-np.inf, 3, 10, 18, 24, np.inf], labels = size_labels_ordered)\n",
    "\n",
    "nyc_trees = nyc_trees.assign(stump_diam_category = stump_diam_category.values)\n",
    "nyc_trees.head()"
   ]
  },
  {
   "cell_type": "code",
   "execution_count": 105,
   "metadata": {},
   "outputs": [
    {
     "output_type": "stream",
     "name": "stdout",
     "text": [
      "Medium (3-10in)\nLarge (18-24in)\n"
     ]
    }
   ],
   "source": [
    "# Convert stump_diam_category back to a category column, even though we intentionally saved it as string in the previous step for the purpose of this exercise\n",
    "\n",
    "nyc_trees.stump_diam_category = pd.Categorical(nyc_trees.stump_diam_category, size_labels_ordered, ordered=True)\n",
    "\n",
    "# Calculate 25th Percentile Category\n",
    "\n",
    "twenty_five_percentile_index = np.percentile(nyc_trees.stump_diam_category.cat.codes, 25)\n",
    "p25_tree_diam_category  = size_labels_ordered[int(twenty_five_percentile_index)]\n",
    "print(p25_tree_diam_category)\n",
    "\n",
    "# Calculate 75th Percentile Category\n",
    "seventy_five_percentile_index = np.percentile(nyc_trees.stump_diam_category.cat.codes, 75)\n",
    "p75_tree_diam_category  = size_labels_ordered[int(seventy_five_percentile_index)]\n",
    "print(p75_tree_diam_category)"
   ]
  },
  {
   "cell_type": "code",
   "execution_count": 122,
   "metadata": {},
   "outputs": [
    {
     "output_type": "stream",
     "name": "stdout",
     "text": [
      "Medium (3-10in)           5179\nMedium-Large (10-18in)    4816\nVery large (>24in)        3931\nLarge (18-24in)           2491\nSmall (0-3in)             2237\nName: stump_diam_category, dtype: int64\n"
     ]
    }
   ],
   "source": [
    "# Let's get frequency of the stump diameter category\n",
    "\n",
    "print(nyc_trees.stump_diam_category.value_counts(dropna=True))\n",
    "\n",
    "# Note: value_counts() also works on strings\n",
    "\n",
    "# print(type(nyc_trees.stump_diam_category))"
   ]
  },
  {
   "cell_type": "code",
   "execution_count": 123,
   "metadata": {},
   "outputs": [
    {
     "output_type": "stream",
     "name": "stdout",
     "text": [
      "Medium (3-10in)           0.277635\nMedium-Large (10-18in)    0.258175\nVery large (>24in)        0.210732\nLarge (18-24in)           0.133537\nSmall (0-3in)             0.119921\nName: stump_diam_category, dtype: float64\nMedium (3-10in)           0.277635\nMedium-Large (10-18in)    0.258175\nVery large (>24in)        0.210732\nLarge (18-24in)           0.133537\nSmall (0-3in)             0.119921\nName: stump_diam_category, dtype: float64\n"
     ]
    }
   ],
   "source": [
    "# Proportions\n",
    "\n",
    "print(nyc_trees.stump_diam_category.value_counts(dropna=True) / len(nyc_trees.stump_diam_category))\n",
    "\n",
    "# Or easier:\n",
    "\n",
    "print(nyc_trees.stump_diam_category.value_counts(dropna=True, normalize=True))"
   ]
  },
  {
   "cell_type": "code",
   "execution_count": 127,
   "metadata": {},
   "outputs": [
    {
     "output_type": "stream",
     "name": "stdout",
     "text": [
      "971 0.05205317894285408\n2172 0.11643615310389192\n"
     ]
    }
   ],
   "source": [
    "# Frequency and Proportion\n",
    "\n",
    "living_frequency = (nyc_trees.status == 'Alive').sum()\n",
    "living_proportion  = (nyc_trees.status == 'Alive').mean()\n",
    "print(living_frequency, living_proportion)\n",
    "\n",
    "giant_frequency  = (nyc_trees.stump_diam > 30).sum()\n",
    "giant_proportion  = (nyc_trees.stump_diam > 30).mean()\n",
    "print(giant_frequency , giant_proportion)"
   ]
  }
 ]
}