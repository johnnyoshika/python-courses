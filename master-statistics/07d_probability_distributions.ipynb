{
 "metadata": {
  "language_info": {
   "codemirror_mode": {
    "name": "ipython",
    "version": 3
   },
   "file_extension": ".py",
   "mimetype": "text/x-python",
   "name": "python",
   "nbconvert_exporter": "python",
   "pygments_lexer": "ipython3",
   "version": "3.9.2"
  },
  "orig_nbformat": 2,
  "kernelspec": {
   "name": "python392jvsc74a57bd03e51c8fce8865fe7ce19d319b84dc281172c29fab73b40f06b05bf6ddc25df62",
   "display_name": "Python 3.9.2 64-bit"
  },
  "metadata": {
   "interpreter": {
    "hash": "3e51c8fce8865fe7ce19d319b84dc281172c29fab73b40f06b05bf6ddc25df62"
   }
  }
 },
 "nbformat": 4,
 "nbformat_minor": 2,
 "cells": [
  {
   "cell_type": "code",
   "execution_count": 6,
   "metadata": {},
   "outputs": [
    {
     "output_type": "stream",
     "name": "stdout",
     "text": [
      "[1 1 4 4 1 5 6 4 6 4]\n[ 1  5 10  7  9  8  7 11  1  6]\n"
     ]
    }
   ],
   "source": [
    "import numpy as np\n",
    "import scipy.stats as stats\n",
    "\n",
    "# create 6 sided \"die\"\n",
    "die_6 = range(1, 7)\n",
    "\n",
    "# set number of rolls\n",
    "num_rolls = 10\n",
    "\n",
    "# roll the \"die\" the set amount of times\n",
    "results_1 = np.random.choice(die_6, size = num_rolls, replace = True)\n",
    "print(results_1)\n",
    "\n",
    "# create 12-sided \"die\"\n",
    "die_12 = range(1,13)\n",
    "\n",
    "# roll the 12-sided \"die\" 10 times\n",
    "results_2 = np.random.choice(die_12, size = num_rolls, replace = True)\n",
    "print(results_2)\n",
    "\n",
    "# Note: replace = True means that the die will be put back after taking out\n"
   ]
  },
  {
   "source": [
    "## Discrete random variable\n",
    "\n",
    "Countable\n",
    "\n",
    "## Continuous random variable\n",
    "\n",
    "Uncountable"
   ],
   "cell_type": "markdown",
   "metadata": {}
  },
  {
   "source": [
    "## Probably mass function\n",
    "\n",
    "A probability mass function (PMF) is a type of probability distribution that defines the probability of observing a particular value of a discrete random variable. For example, a PMF can be used to calculate the probability of rolling a three on a fair six-sided die."
   ],
   "cell_type": "markdown",
   "metadata": {}
  },
  {
   "cell_type": "code",
   "execution_count": 7,
   "metadata": {},
   "outputs": [
    {
     "output_type": "stream",
     "name": "stdout",
     "text": [
      "0.11718750000000014\n0.6562500000000007\n"
     ]
    }
   ],
   "source": [
    "# Calculate the probability of observing 3 heads on 10 coin flips\n",
    "x = 3\n",
    "\n",
    "# 10 coin flips\n",
    "n = 10\n",
    "\n",
    "# The probability of getting 3 heads is:\n",
    "# Note: the last value (0.5) is the probably of success\n",
    "\n",
    "prob_1 = prob_1 = stats.binom.pmf(x, n, 0.5)\n",
    "print(prob_1)\n",
    "\n",
    "# Probability of observing between 4 to 6 heads from 10 coin flips:\n",
    "prob_range = stats.binom.pmf(4, 10, 0.5) + stats.binom.pmf(5, 10, 0.5) + stats.binom.pmf(6, 10, 0.5)\n",
    "print(prob_range)\n"
   ]
  },
  {
   "source": [
    "## Cumulative distribution function\n",
    "\n",
    "The cumulative distribution function gives the probability of observing a specific value OR LESS and can be derived from the probability mass function (PMF)."
   ],
   "cell_type": "markdown",
   "metadata": {}
  },
  {
   "cell_type": "code",
   "execution_count": 8,
   "metadata": {},
   "outputs": [
    {
     "output_type": "stream",
     "name": "stdout",
     "text": [
      "0.828125\n0.8173828125\n0.171875\n"
     ]
    }
   ],
   "source": [
    "# The probability of observing 6 or fewer heads from 10 fair coin flips (0 to 6 heads):\n",
    "\n",
    "print(stats.binom.cdf(6, 10, 0.5))\n",
    "\n",
    "# The probability of observing between 4 and 8 heads from 10 fair coin flips\n",
    "\n",
    "print(stats.binom.cdf(8, 10, 0.5) - stats.binom.cdf(3, 10, 0.5))\n",
    "\n",
    "# The probability of observing more than 6 heads from 10 fair coin flips\n",
    "\n",
    "print(1 - stats.binom.cdf(6, 10, 0.5))"
   ]
  },
  {
   "source": [
    "# Probability Density Function\n",
    "\n",
    "Continuous random variables relate to probability density functions. When graphed, a probability density function is a curve across all possible values the random variable can take on, and the total area under this curve adds up to 1.\n",
    "\n",
    "We can calculate the area under the curve using the cumulative distribution function for the given probability distribution.\n",
    "\n",
    "Normal distirbution is a type of probability distribution.\n"
   ],
   "cell_type": "markdown",
   "metadata": {}
  },
  {
   "cell_type": "code",
   "execution_count": 9,
   "metadata": {},
   "outputs": [
    {
     "output_type": "stream",
     "name": "stdout",
     "text": [
      "0.11410165094812996\n0.45194145326220503\n0.2971898709083267\n"
     ]
    }
   ],
   "source": [
    "# Women’s heights have a mean of 167.64 cm with a standard deviation of 8 cm, which makes them fall under the Normal(167.64, 8) distribution. The probably that a woman is less than 158cm of a normal distribution:\n",
    "\n",
    "print(stats.norm.cdf(158, 167.64, 8))\n",
    "\n",
    "# Probability of randomly observing a woman between 165cm and 175cm:\n",
    "\n",
    "print(stats.norm.cdf(175, 167.74, 8) - stats.norm.cdf(165, 167.74, 8))\n",
    "\n",
    "# Probability of randomly observing a woman taller than 172cm\n",
    "\n",
    "print(1 - stats.norm.cdf(172, 167.74, 8))"
   ]
  }
 ]
}