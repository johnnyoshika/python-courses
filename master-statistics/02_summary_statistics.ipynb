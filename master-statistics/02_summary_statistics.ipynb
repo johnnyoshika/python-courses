{
 "metadata": {
  "language_info": {
   "codemirror_mode": {
    "name": "ipython",
    "version": 3
   },
   "file_extension": ".py",
   "mimetype": "text/x-python",
   "name": "python",
   "nbconvert_exporter": "python",
   "pygments_lexer": "ipython3",
   "version": "3.9.2-final"
  },
  "orig_nbformat": 2,
  "kernelspec": {
   "name": "python3",
   "display_name": "Python 3.9.2 64-bit",
   "metadata": {
    "interpreter": {
     "hash": "3e51c8fce8865fe7ce19d319b84dc281172c29fab73b40f06b05bf6ddc25df62"
    }
   }
  }
 },
 "nbformat": 4,
 "nbformat_minor": 2,
 "cells": [
  {
   "source": [
    "## Section 2: Summary Statistics"
   ],
   "cell_type": "markdown",
   "metadata": {}
  },
  {
   "cell_type": "code",
   "execution_count": 2,
   "metadata": {},
   "outputs": [],
   "source": [
    "import numpy as np\n",
    "import pandas as pd\n",
    "from scipy import stats\n",
    "from collections import Counter\n",
    "\n",
    "cars = pd.read_csv('cars.csv')\n",
    "# Quickly clean data (all from 01_varialbes_types.ipynb)\n",
    "cars['Weight'] = cars['Weight'].replace(['missing'], np.nan)\n",
    "cars['Weight'] = cars['Weight'].astype('float')\n",
    "cars['Rating'] = pd.Categorical(\n",
    "    cars['Rating'], ['Bad', 'Good', 'Excellent'], ordered=True)\n",
    "cars['Rating_codes'] = cars['Rating'].cat.codes\n",
    "cars = pd.get_dummies(data=cars, columns=['Average Education'])"
   ]
  },
  {
   "source": [
    "### Mean"
   ],
   "cell_type": "markdown",
   "metadata": {}
  },
  {
   "cell_type": "code",
   "execution_count": 3,
   "metadata": {},
   "outputs": [
    {
     "output_type": "execute_result",
     "data": {
      "text/plain": [
       "102.48617077694443"
      ]
     },
     "metadata": {},
     "execution_count": 3
    }
   ],
   "source": [
    "cars['CO2'].mean()"
   ]
  },
  {
   "cell_type": "code",
   "execution_count": 6,
   "metadata": {},
   "outputs": [
    {
     "output_type": "execute_result",
     "data": {
      "text/plain": [
       "20.0"
      ]
     },
     "metadata": {},
     "execution_count": 6
    }
   ],
   "source": [
    "example_array = np.array([24, 16, 30, 10, 12, 28, 38, 2, 4, 36])\n",
    "np.average(example_array) # can also use np.mean()"
   ]
  },
  {
   "source": [
    "### Median"
   ],
   "cell_type": "markdown",
   "metadata": {}
  },
  {
   "cell_type": "code",
   "execution_count": 7,
   "metadata": {},
   "outputs": [
    {
     "output_type": "execute_result",
     "data": {
      "text/plain": [
       "99.799675255"
      ]
     },
     "metadata": {},
     "execution_count": 7
    }
   ],
   "source": [
    "cars['CO2'].median()"
   ]
  },
  {
   "cell_type": "code",
   "execution_count": 8,
   "metadata": {},
   "outputs": [
    {
     "output_type": "execute_result",
     "data": {
      "text/plain": [
       "20.0"
      ]
     },
     "metadata": {},
     "execution_count": 8
    }
   ],
   "source": [
    "np.median(example_array)"
   ]
  },
  {
   "source": [
    "### Mode\n",
    "\n",
    "i.e. most frequent value"
   ],
   "cell_type": "markdown",
   "metadata": {}
  },
  {
   "cell_type": "code",
   "execution_count": 12,
   "metadata": {},
   "outputs": [
    {
     "output_type": "execute_result",
     "data": {
      "text/plain": [
       "'The mode is 12 and it appears 3 times out of 10'"
      ]
     },
     "metadata": {},
     "execution_count": 12
    }
   ],
   "source": [
    "example_array2 = np.array([24, 16, 12, 10, 12, 28, 38, 12, 28, 24])\n",
    "example_mode = stats.mode(example_array2)\n",
    "'The mode is ' + str(example_mode[0][0]) + ' and it appears ' + str(\n",
    "    example_mode[1][0]) + ' times out of ' + str(len(example_array))"
   ]
  },
  {
   "source": [
    "### Frequency\n",
    "\n",
    "Frequency of every unique value"
   ],
   "cell_type": "markdown",
   "metadata": {}
  },
  {
   "cell_type": "code",
   "execution_count": 15,
   "metadata": {},
   "outputs": [
    {
     "output_type": "stream",
     "name": "stdout",
     "text": [
      "Counter({12: 3, 24: 2, 28: 2, 16: 1, 10: 1, 38: 1}) dict_items([(24, 2), (16, 1), (12, 3), (10, 1), (28, 2), (38, 1)])\n"
     ]
    }
   ],
   "source": [
    "counters = Counter(example_array2)\n",
    "print(counters, counters.items())"
   ]
  },
  {
   "source": [
    "### Variance\n",
    "Square all the differnces from the mean, then divide by count"
   ],
   "cell_type": "markdown",
   "metadata": {}
  },
  {
   "cell_type": "code",
   "execution_count": 16,
   "metadata": {},
   "outputs": [
    {
     "output_type": "execute_result",
     "data": {
      "text/plain": [
       "338.8"
      ]
     },
     "metadata": {},
     "execution_count": 16
    }
   ],
   "source": [
    "dataset = [3, 5, -2, 49, 10]\n",
    "variance = np.var(dataset)\n",
    "variance"
   ]
  },
  {
   "source": [
    "### Standard Deviation\n",
    "\n",
    "Standard deviation is the square root of the variance."
   ],
   "cell_type": "markdown",
   "metadata": {}
  },
  {
   "cell_type": "code",
   "execution_count": 17,
   "metadata": {},
   "outputs": [
    {
     "output_type": "execute_result",
     "data": {
      "text/plain": [
       "18.40652058374966"
      ]
     },
     "metadata": {},
     "execution_count": 17
    }
   ],
   "source": [
    "standard_deviation_of_variance = variance ** 0.5\n",
    "standard_deviation_of_variance"
   ]
  },
  {
   "cell_type": "code",
   "execution_count": 18,
   "metadata": {},
   "outputs": [
    {
     "output_type": "execute_result",
     "data": {
      "text/plain": [
       "18.40652058374966"
      ]
     },
     "metadata": {},
     "execution_count": 18
    }
   ],
   "source": [
    "dataset = [4, 8, 15, 16, 23, 42]\n",
    "standard_deviation = np.std(dataset)\n",
    "standard_deviation_of_variance"
   ]
  },
  {
   "source": [
    "### Filter"
   ],
   "cell_type": "markdown",
   "metadata": {}
  },
  {
   "cell_type": "code",
   "execution_count": 21,
   "metadata": {},
   "outputs": [
    {
     "output_type": "execute_result",
     "data": {
      "text/plain": [
       "    Car Model  Volume  Weight        CO2 Rating  Rating_codes  \\\n",
       "3  Fiat   500   900.0   865.0  90.111976    Bad             0   \n",
       "\n",
       "   Average Education_bachelors  Average Education_high school  \\\n",
       "3                            1                              0   \n",
       "\n",
       "   Average Education_masters  Average Education_post doctorate  \n",
       "3                          0                                 0  "
      ],
      "text/html": "<div>\n<style scoped>\n    .dataframe tbody tr th:only-of-type {\n        vertical-align: middle;\n    }\n\n    .dataframe tbody tr th {\n        vertical-align: top;\n    }\n\n    .dataframe thead th {\n        text-align: right;\n    }\n</style>\n<table border=\"1\" class=\"dataframe\">\n  <thead>\n    <tr style=\"text-align: right;\">\n      <th></th>\n      <th>Car</th>\n      <th>Model</th>\n      <th>Volume</th>\n      <th>Weight</th>\n      <th>CO2</th>\n      <th>Rating</th>\n      <th>Rating_codes</th>\n      <th>Average Education_bachelors</th>\n      <th>Average Education_high school</th>\n      <th>Average Education_masters</th>\n      <th>Average Education_post doctorate</th>\n    </tr>\n  </thead>\n  <tbody>\n    <tr>\n      <th>3</th>\n      <td>Fiat</td>\n      <td>500</td>\n      <td>900.0</td>\n      <td>865.0</td>\n      <td>90.111976</td>\n      <td>Bad</td>\n      <td>0</td>\n      <td>1</td>\n      <td>0</td>\n      <td>0</td>\n      <td>0</td>\n    </tr>\n  </tbody>\n</table>\n</div>"
     },
     "metadata": {},
     "execution_count": 21
    }
   ],
   "source": [
    "fiats = cars[cars['Car'] == 'Fiat']\n",
    "fiats.head()"
   ]
  }
 ]
}