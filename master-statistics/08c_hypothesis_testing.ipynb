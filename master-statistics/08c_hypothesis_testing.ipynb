{
 "metadata": {
  "language_info": {
   "codemirror_mode": {
    "name": "ipython",
    "version": 3
   },
   "file_extension": ".py",
   "mimetype": "text/x-python",
   "name": "python",
   "nbconvert_exporter": "python",
   "pygments_lexer": "ipython3",
   "version": "3.9.2"
  },
  "orig_nbformat": 2,
  "kernelspec": {
   "name": "python392jvsc74a57bd03e51c8fce8865fe7ce19d319b84dc281172c29fab73b40f06b05bf6ddc25df62",
   "display_name": "Python 3.9.2 64-bit"
  },
  "metadata": {
   "interpreter": {
    "hash": "3e51c8fce8865fe7ce19d319b84dc281172c29fab73b40f06b05bf6ddc25df62"
   }
  }
 },
 "nbformat": 4,
 "nbformat_minor": 2,
 "cells": [
  {
   "source": [
    "# Two-Sample T-Tests\n",
    "\n",
    "Use when there is an association between a quantitative variable and a binary categorical variable."
   ],
   "cell_type": "markdown",
   "metadata": {}
  },
  {
   "cell_type": "code",
   "execution_count": 2,
   "metadata": {},
   "outputs": [
    {
     "output_type": "execute_result",
     "data": {
      "text/plain": [
       "0.0020408264429903995"
      ]
     },
     "metadata": {},
     "execution_count": 2
    }
   ],
   "source": [
    "from scipy.stats import ttest_ind\n",
    "import pandas as pd\n",
    "import matplotlib.pyplot as plt\n",
    "\n",
    "data = pd.read_csv('08_a_b_test_time_spent_on_website.csv')\n",
    "\n",
    "# Quantitative variable (time spent on website) and a binary categorical variable (old color schedume or a new color scheme)\n",
    "\n",
    "old = data.time_minutes[data.version=='old']\n",
    "new = data.time_minutes[data.version=='new']\n",
    "\n",
    "# By default, ttest_ind() runs a two-sided test.\n",
    "\n",
    "tstat, pval = ttest_ind(old, new)\n",
    "pval\n"
   ]
  },
  {
   "source": [
    "Assuming a significant threshold of 0.05, there is a significant difference between the average amount of time."
   ],
   "cell_type": "markdown",
   "metadata": {}
  },
  {
   "source": [
    "# ANOVA and Tukey Tests\n",
    "\n",
    "Use when there is an association between a quantitative variable and a non-binary (i.e. more than 2 categories) categorical variable. We could run multiple 2-stample t-tests (A vs B, B vs C, and A vs C, etc), but easier to use ANOVA (Analysis of Variance).\n",
    "\n",
    "Can use `from scipy.stats import f_oneway` to perform an ANOVA.\n",
    "\n",
    "ANOVA tells you the p-value, and if it's below our significance threshold, we conclude that at least one pair of our groups differ significantly, but it doesn't tell us which one. We use Tukey to tell us which one.\n",
    "\n",
    "Can use `from statsmodels.stats.multicomp import pairwise_tukeyhsd` for Tukey calculation."
   ],
   "cell_type": "markdown",
   "metadata": {}
  },
  {
   "source": [
    "# Chi-Square Tests\n",
    "\n",
    "Use when there is an association between two categorical variables.\n",
    "\n",
    "If we want to understand whether the outcomes of two categorical variables are associated, we can use a Chi-Square test. It is useful in situations like:\n",
    "\n",
    "* An A/B test where half of users were shown a green submit button and the other half were shown a purple submit button. Was one group more likely to click the submit button?\n",
    "* People under and over age 40 were given a survey asking “Which of the following three products is your favorite?” Did these age groups have significantly different preferences?\n",
    "\n",
    "In SciPy, we can use the function `chi2_contingency()` to perform a Chi-Square test.\n",
    "\n",
    "For `chi2_contingency()`, we need a cross tab. Use this helpful method: `table = pd.crosstab(variable_1, variable_2)`"
   ],
   "cell_type": "markdown",
   "metadata": {}
  },
  {
   "source": [
    "# Review\n",
    "\n",
    "<img src=\"testing_for_an_association-review.png\" height=\"700\" />"
   ],
   "cell_type": "markdown",
   "metadata": {}
  }
 ]
}