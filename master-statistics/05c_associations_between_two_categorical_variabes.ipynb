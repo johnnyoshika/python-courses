{
 "metadata": {
  "language_info": {
   "codemirror_mode": {
    "name": "ipython",
    "version": 3
   },
   "file_extension": ".py",
   "mimetype": "text/x-python",
   "name": "python",
   "nbconvert_exporter": "python",
   "pygments_lexer": "ipython3",
   "version": "3.9.2"
  },
  "orig_nbformat": 2,
  "kernelspec": {
   "name": "python392jvsc74a57bd03e51c8fce8865fe7ce19d319b84dc281172c29fab73b40f06b05bf6ddc25df62",
   "display_name": "Python 3.9.2 64-bit"
  },
  "metadata": {
   "interpreter": {
    "hash": "3e51c8fce8865fe7ce19d319b84dc281172c29fab73b40f06b05bf6ddc25df62"
   }
  }
 },
 "nbformat": 4,
 "nbformat_minor": 2,
 "cells": [
  {
   "cell_type": "code",
   "execution_count": 22,
   "metadata": {},
   "outputs": [
    {
     "output_type": "stream",
     "name": "stdout",
     "text": [
      "   index influence blend_in special leader authority\n0      0        no      yes     yes    yes       yes\n1      1        no      yes      no     no        no\n2      2       yes       no     yes    yes       yes\n3      3       yes       no      no    yes       yes\n4      4       yes      yes      no    yes        no\n"
     ]
    }
   ],
   "source": [
    "import numpy as np\n",
    "import pandas as pd\n",
    "from matplotlib import pyplot as plt\n",
    "from scipy.stats import chi2_contingency\n",
    "\n",
    "npi = pd.read_csv('narcissistic_personality_inventory.csv')\n",
    "\n",
    "print(npi.head(5))\n",
    "\n",
    "# influence: yes = I have a natural talent for influencing people; no = I am not good at influencing people.\n",
    "# blend_in: yes = I prefer to blend in with the crowd; no = I like to be the center of attention.\n",
    "# special: yes = I think I am a special person; no = I am no better or worse than most people.\n",
    "# leader: yes = I see myself as a good leader; no = I am not sure if I would make a good leader.\n",
    "# authority: yes = I like to have authority over other people; no = I don’t mind following orders.\n"
   ]
  },
  {
   "source": [
    "### Is there an association between influence and leader?   "
   ],
   "cell_type": "markdown",
   "metadata": {}
  },
  {
   "cell_type": "code",
   "execution_count": 23,
   "metadata": {},
   "outputs": [
    {
     "output_type": "stream",
     "name": "stdout",
     "text": [
      "leader       no   yes\ninfluence            \nno         1613   705\nyes        1301  2380\n"
     ]
    }
   ],
   "source": [
    "influence_leader_freq = pd.crosstab(npi.influence, npi.leader)\n",
    "print(influence_leader_freq)"
   ]
  },
  {
   "cell_type": "code",
   "execution_count": 24,
   "metadata": {},
   "outputs": [
    {
     "output_type": "stream",
     "name": "stdout",
     "text": [
      "5999\nleader           no       yes\ninfluence                    \nno         0.268878  0.117520\nyes        0.216869  0.396733\n"
     ]
    }
   ],
   "source": [
    "# The previous table as proportions\n",
    "print(len(npi))\n",
    "influence_leader_prop = influence_leader_freq/len(npi)\n",
    "print(influence_leader_prop)"
   ]
  },
  {
   "source": [
    "## Marginal proportions\n",
    "\n",
    "Marginal Proportion -> The proportion of respondents in each category of a single question."
   ],
   "cell_type": "markdown",
   "metadata": {}
  },
  {
   "cell_type": "code",
   "execution_count": 25,
   "metadata": {},
   "outputs": [
    {
     "output_type": "stream",
     "name": "stdout",
     "text": [
      "leader\nno     0.485748\nyes    0.514252\ndtype: float64\n\ninfluence\nno     0.386398\nyes    0.613602\ndtype: float64\n"
     ]
    }
   ],
   "source": [
    "leader_marginals = influence_leader_prop.sum(axis=0)\n",
    "print(leader_marginals)\n",
    "\n",
    "print()\n",
    "\n",
    "influence_marginals = influence_leader_prop.sum(axis=1)\n",
    "# no: 0.268878 + 0.117520 = 0.386398\n",
    "# yes: 0.216869 + 0.396733 = 0.613602\n",
    "print(influence_marginals)\n",
    "\n",
    "# Summary\n",
    "# While respondents are approximately split on whether they see themselves as a leader, more people think they have a talent for influencing people than not."
   ]
  },
  {
   "source": [
    "### Expected Contingency Tables\n",
    "\n",
    "This one's complicated. We use the marginal proportion to create a contingency table of *expected proportions* if there we *no association* between these variables.\n",
    "\n",
    "This is how it's explained at Codeacademy.\n",
    "\n",
    "<<img src=\"05c_contingency_table.png\" height=\"500\" />"
   ],
   "cell_type": "markdown",
   "metadata": {}
  },
  {
   "source": [
    "chi2, pval, dof, expected = chi2_contingency(influence_leader_freq)\n",
    "print(np.round(expected))\n",
    "# Codeacademy got the same results as the screenshot:\n",
    "# [[2087, 2221]\n",
    "# [3288, 3501]]\n",
    "# ...but our results are different, probaly due to the difference in our datasets.\n",
    "\n",
    "# From Codeacademy:\n",
    "# The more that the expected and observed tables differ, the more sure we can be that the variables are associated. In this example, we see some pretty big differences (eg., 3015 in the observed table compared to 2087 in the expected table). This provides additional evidence that these variables are associated."
   ],
   "cell_type": "code",
   "metadata": {},
   "execution_count": 26,
   "outputs": [
    {
     "output_type": "stream",
     "name": "stdout",
     "text": [
      "[[1126. 1192.]\n [1788. 1893.]]\n"
     ]
    }
   ]
  },
  {
   "source": [
    "### Chi-Square Statistic\n",
    "\n",
    "ChiSquare = sum((observed - expected)^2)"
   ],
   "cell_type": "markdown",
   "metadata": {}
  },
  {
   "cell_type": "code",
   "execution_count": 21,
   "metadata": {},
   "outputs": [
    {
     "output_type": "stream",
     "name": "stdout",
     "text": [
      "666.2609777674471\n"
     ]
    }
   ],
   "source": [
    "chi2, pval, dof, expected = chi2_contingency(influence_leader_freq)\n",
    "print(chi2)"
   ]
  }
 ]
}