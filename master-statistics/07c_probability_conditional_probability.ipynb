{
 "metadata": {
  "language_info": {
   "codemirror_mode": {
    "name": "ipython",
    "version": 3
   },
   "file_extension": ".py",
   "mimetype": "text/x-python",
   "name": "python",
   "nbconvert_exporter": "python",
   "pygments_lexer": "ipython3",
   "version": "3.9.2"
  },
  "orig_nbformat": 2,
  "kernelspec": {
   "name": "python392jvsc74a57bd03e51c8fce8865fe7ce19d319b84dc281172c29fab73b40f06b05bf6ddc25df62",
   "display_name": "Python 3.9.2 64-bit"
  },
  "metadata": {
   "interpreter": {
    "hash": "3e51c8fce8865fe7ce19d319b84dc281172c29fab73b40f06b05bf6ddc25df62"
   }
  }
 },
 "nbformat": 4,
 "nbformat_minor": 2,
 "cells": [
  {
   "source": [
    "# Conditional probability\n",
    "\n",
    "\"given\" is represented with `|`\n",
    "\n",
    "`P(Red Second | Blue First)` -> Probability of red happening second given blue happened first\n",
    "\n",
    "For independent events, we can say the following:\n",
    "\n",
    "P(A|B) = P(A)\n",
    "\n",
    "and\n",
    "\n",
    "P(B|A) = P(B)"
   ],
   "cell_type": "markdown",
   "metadata": {}
  },
  {
   "source": [
    "# Multiplication rule\n",
    "\n",
    "2 events happening simultaneously.\n",
    "\n",
    "### General formula\n",
    "\n",
    "P(A and B) = P(A) * P(B|A)\n",
    "\n",
    "### Dependent events\n",
    "\n",
    "Example: We have five marbles: two are blue, and three are red. We pick two marbles without replacement. What if we want to know the probability of choosing a blue marble first AND a blue marble second?\n",
    "\n",
    "Taking conditional probability into account, the multiplication rule for these two dependent events is:\n",
    "\n",
    "P(Blue 1st and Blue 2nd) = P(Blue 1st) * P(Blue 2nd | Blue 1st)\n",
    "\n",
    "P(Blue 1st and Blue 2nd) = 2/5 * 1/4\n",
    "\n",
    "P(Blue 1st and Blue 2nd) = 1/10\n",
    "\n",
    "### Independent events\n",
    "\n",
    "For two independent events, the multiplication rule becomes less complicated. The probability of two independent events occurring is:\n",
    "\n",
    "P(A and B) = P(A) * P(B)\n",
    "\n",
    "Let’s look at the simplest example: flipping a fair coin twice. Event A is that we get tails on the first flip, and event B is that we get tails on the second flip. P(A) = P(B) = 0.5, so according to our formula, the probability of getting tails on both flips would be:\n",
    "\n",
    "P(A and B) = 0.5*0.5 = 0.25\n",
    "\n"
   ],
   "cell_type": "markdown",
   "metadata": {}
  },
  {
   "source": [
    "# Conditional probablity continued\n",
    "\n",
    "\n",
    "<img src=\"07c_conditional_probability_continued.png\" height=\"900\" />\n",
    "\n",
    "<img src=\"07c_conditional_probability_continued2.png\" height=\"900\" />"
   ],
   "cell_type": "markdown",
   "metadata": {}
  }
 ]
}